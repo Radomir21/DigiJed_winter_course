{
  "cells": [
    {
      "cell_type": "markdown",
      "metadata": {
        "id": "view-in-github",
        "colab_type": "text"
      },
      "source": [
        "<a href=\"https://colab.research.google.com/github/Radomir21/DigiJed_winter_course/blob/main/DigiJed_Lab_2.ipynb\" target=\"_parent\"><img src=\"https://colab.research.google.com/assets/colab-badge.svg\" alt=\"Open In Colab\"/></a>"
      ]
    },
    {
      "cell_type": "markdown",
      "metadata": {
        "id": "ZhKJr9lnEwb1"
      },
      "source": [
        "# 1) Preprocessing"
      ]
    },
    {
      "cell_type": "code",
      "execution_count": 1,
      "metadata": {
        "colab": {
          "base_uri": "https://localhost:8080/"
        },
        "id": "ZxxSYZoXEdUT",
        "outputId": "a4f4cd0d-13c1-46f7-9105-fdfe4c6d1ff6"
      },
      "outputs": [
        {
          "output_type": "stream",
          "name": "stdout",
          "text": [
            "Mounted at /content/drive\n"
          ]
        }
      ],
      "source": [
        "from google.colab import drive\n",
        "drive.mount(\"/content/drive\")"
      ]
    },
    {
      "cell_type": "code",
      "execution_count": 2,
      "metadata": {
        "id": "GF8c9TjFFWIO"
      },
      "outputs": [],
      "source": [
        "#імпортування бібліотек\n",
        "\n",
        "import pandas as pd\n",
        "import numpy as np\n",
        "from sklearn.preprocessing import OneHotEncoder\n",
        "from sklearn.preprocessing import MinMaxScaler\n",
        "from sklearn.preprocessing import StandardScaler\n",
        "import seaborn as sns\n",
        "import matplotlib.pyplot as plt\n",
        "from imblearn.over_sampling import SMOTE\n",
        "from sklearn.model_selection import train_test_split\n",
        "from sklearn.metrics import confusion_matrix,ConfusionMatrixDisplay,classification_report\n",
        "from sklearn.linear_model import LogisticRegression\n",
        "from sklearn.model_selection import cross_val_score\n",
        "from sklearn.model_selection import cross_validate\n",
        "from sklearn.metrics import f1_score\n",
        "from sklearn.metrics import precision_score\n",
        "from sklearn.metrics import recall_score\n",
        "from sklearn.metrics import accuracy_score\n",
        "from sklearn.metrics import make_scorer\n",
        "from sklearn.model_selection import cross_validate\n",
        "from sklearn.model_selection import KFold\n",
        "from sklearn.model_selection import learning_curve\n",
        "from sklearn.model_selection import GridSearchCV, RandomizedSearchCV\n",
        "from xgboost import XGBClassifier\n",
        "from sklearn.ensemble import RandomForestClassifier"
      ]
    },
    {
      "cell_type": "code",
      "execution_count": 3,
      "metadata": {
        "id": "TcyHO_UJGD37"
      },
      "outputs": [],
      "source": [
        "df_adult_normal = pd.read_csv('/content/drive/MyDrive/Data Analyzis/adult_normal.csv')"
      ]
    },
    {
      "cell_type": "code",
      "execution_count": 4,
      "metadata": {
        "colab": {
          "base_uri": "https://localhost:8080/",
          "height": 0
        },
        "id": "hekJ4ckNGRE1",
        "outputId": "9d01ad92-fe05-4fc2-9917-c615dceebf9b"
      },
      "outputs": [
        {
          "output_type": "execute_result",
          "data": {
            "text/plain": [
              "       Unnamed: 0  sex  income  workclass_ Private  marital-status_ Divorced  \\\n",
              "0               0    1   <=50K                 0.0                       0.0   \n",
              "1               1    1   <=50K                 0.0                       0.0   \n",
              "2               2    1   <=50K                 1.0                       1.0   \n",
              "3               3    1   <=50K                 1.0                       0.0   \n",
              "4               4    0   <=50K                 1.0                       0.0   \n",
              "...           ...  ...     ...                 ...                       ...   \n",
              "32556       32556    0   <=50K                 1.0                       0.0   \n",
              "32557       32557    1    >50K                 1.0                       0.0   \n",
              "32558       32558    0   <=50K                 1.0                       0.0   \n",
              "32559       32559    1   <=50K                 1.0                       0.0   \n",
              "32560       32560    0    >50K                 0.0                       0.0   \n",
              "\n",
              "       marital-status_ Married-civ-spouse  marital-status_ Never-married  \\\n",
              "0                                     0.0                            1.0   \n",
              "1                                     1.0                            0.0   \n",
              "2                                     0.0                            0.0   \n",
              "3                                     1.0                            0.0   \n",
              "4                                     1.0                            0.0   \n",
              "...                                   ...                            ...   \n",
              "32556                                 1.0                            0.0   \n",
              "32557                                 1.0                            0.0   \n",
              "32558                                 0.0                            0.0   \n",
              "32559                                 0.0                            1.0   \n",
              "32560                                 1.0                            0.0   \n",
              "\n",
              "       occupation_ Adm-clerical  occupation_ Craft-repair  \\\n",
              "0                           1.0                       0.0   \n",
              "1                           0.0                       0.0   \n",
              "2                           0.0                       0.0   \n",
              "3                           0.0                       0.0   \n",
              "4                           0.0                       0.0   \n",
              "...                         ...                       ...   \n",
              "32556                       0.0                       0.0   \n",
              "32557                       0.0                       0.0   \n",
              "32558                       1.0                       0.0   \n",
              "32559                       1.0                       0.0   \n",
              "32560                       0.0                       0.0   \n",
              "\n",
              "       occupation_ Exec-managerial  ...  relationship_ Own-child  \\\n",
              "0                              0.0  ...                      0.0   \n",
              "1                              1.0  ...                      0.0   \n",
              "2                              0.0  ...                      0.0   \n",
              "3                              0.0  ...                      0.0   \n",
              "4                              0.0  ...                      0.0   \n",
              "...                            ...  ...                      ...   \n",
              "32556                          0.0  ...                      0.0   \n",
              "32557                          0.0  ...                      0.0   \n",
              "32558                          0.0  ...                      0.0   \n",
              "32559                          0.0  ...                      1.0   \n",
              "32560                          1.0  ...                      0.0   \n",
              "\n",
              "       relationship_ Unmarried  race_ White  native-country_ United-States  \\\n",
              "0                          0.0          1.0                            1.0   \n",
              "1                          0.0          1.0                            1.0   \n",
              "2                          0.0          1.0                            1.0   \n",
              "3                          0.0          0.0                            1.0   \n",
              "4                          0.0          0.0                            0.0   \n",
              "...                        ...          ...                            ...   \n",
              "32556                      0.0          1.0                            1.0   \n",
              "32557                      0.0          1.0                            1.0   \n",
              "32558                      1.0          1.0                            1.0   \n",
              "32559                      0.0          1.0                            1.0   \n",
              "32560                      0.0          1.0                            1.0   \n",
              "\n",
              "       fnlwgt_normalized  capital-gain_normalized  capital-loss_normalized  \\\n",
              "0               0.044302                 0.021740                      0.0   \n",
              "1               0.048238                 0.000000                      0.0   \n",
              "2               0.138113                 0.000000                      0.0   \n",
              "3               0.151068                 0.000000                      0.0   \n",
              "4               0.221488                 0.000000                      0.0   \n",
              "...                  ...                      ...                      ...   \n",
              "32556           0.166404                 0.000000                      0.0   \n",
              "32557           0.096500                 0.000000                      0.0   \n",
              "32558           0.094827                 0.000000                      0.0   \n",
              "32559           0.128499                 0.000000                      0.0   \n",
              "32560           0.187203                 0.150242                      0.0   \n",
              "\n",
              "       age_normalized  education-num_normalized  hours-per-week_normalized  \n",
              "0            0.301370                  0.800000                   0.397959  \n",
              "1            0.452055                  0.800000                   0.122449  \n",
              "2            0.287671                  0.533333                   0.397959  \n",
              "3            0.493151                  0.400000                   0.397959  \n",
              "4            0.150685                  0.800000                   0.397959  \n",
              "...               ...                       ...                        ...  \n",
              "32556        0.136986                  0.733333                   0.377551  \n",
              "32557        0.315068                  0.533333                   0.397959  \n",
              "32558        0.561644                  0.533333                   0.397959  \n",
              "32559        0.068493                  0.533333                   0.193878  \n",
              "32560        0.479452                  0.533333                   0.397959  \n",
              "\n",
              "[32561 rows x 25 columns]"
            ],
            "text/html": [
              "\n",
              "  <div id=\"df-dda4fdff-a0af-47a7-9012-40c5bf3660b9\" class=\"colab-df-container\">\n",
              "    <div>\n",
              "<style scoped>\n",
              "    .dataframe tbody tr th:only-of-type {\n",
              "        vertical-align: middle;\n",
              "    }\n",
              "\n",
              "    .dataframe tbody tr th {\n",
              "        vertical-align: top;\n",
              "    }\n",
              "\n",
              "    .dataframe thead th {\n",
              "        text-align: right;\n",
              "    }\n",
              "</style>\n",
              "<table border=\"1\" class=\"dataframe\">\n",
              "  <thead>\n",
              "    <tr style=\"text-align: right;\">\n",
              "      <th></th>\n",
              "      <th>Unnamed: 0</th>\n",
              "      <th>sex</th>\n",
              "      <th>income</th>\n",
              "      <th>workclass_ Private</th>\n",
              "      <th>marital-status_ Divorced</th>\n",
              "      <th>marital-status_ Married-civ-spouse</th>\n",
              "      <th>marital-status_ Never-married</th>\n",
              "      <th>occupation_ Adm-clerical</th>\n",
              "      <th>occupation_ Craft-repair</th>\n",
              "      <th>occupation_ Exec-managerial</th>\n",
              "      <th>...</th>\n",
              "      <th>relationship_ Own-child</th>\n",
              "      <th>relationship_ Unmarried</th>\n",
              "      <th>race_ White</th>\n",
              "      <th>native-country_ United-States</th>\n",
              "      <th>fnlwgt_normalized</th>\n",
              "      <th>capital-gain_normalized</th>\n",
              "      <th>capital-loss_normalized</th>\n",
              "      <th>age_normalized</th>\n",
              "      <th>education-num_normalized</th>\n",
              "      <th>hours-per-week_normalized</th>\n",
              "    </tr>\n",
              "  </thead>\n",
              "  <tbody>\n",
              "    <tr>\n",
              "      <th>0</th>\n",
              "      <td>0</td>\n",
              "      <td>1</td>\n",
              "      <td>&lt;=50K</td>\n",
              "      <td>0.0</td>\n",
              "      <td>0.0</td>\n",
              "      <td>0.0</td>\n",
              "      <td>1.0</td>\n",
              "      <td>1.0</td>\n",
              "      <td>0.0</td>\n",
              "      <td>0.0</td>\n",
              "      <td>...</td>\n",
              "      <td>0.0</td>\n",
              "      <td>0.0</td>\n",
              "      <td>1.0</td>\n",
              "      <td>1.0</td>\n",
              "      <td>0.044302</td>\n",
              "      <td>0.021740</td>\n",
              "      <td>0.0</td>\n",
              "      <td>0.301370</td>\n",
              "      <td>0.800000</td>\n",
              "      <td>0.397959</td>\n",
              "    </tr>\n",
              "    <tr>\n",
              "      <th>1</th>\n",
              "      <td>1</td>\n",
              "      <td>1</td>\n",
              "      <td>&lt;=50K</td>\n",
              "      <td>0.0</td>\n",
              "      <td>0.0</td>\n",
              "      <td>1.0</td>\n",
              "      <td>0.0</td>\n",
              "      <td>0.0</td>\n",
              "      <td>0.0</td>\n",
              "      <td>1.0</td>\n",
              "      <td>...</td>\n",
              "      <td>0.0</td>\n",
              "      <td>0.0</td>\n",
              "      <td>1.0</td>\n",
              "      <td>1.0</td>\n",
              "      <td>0.048238</td>\n",
              "      <td>0.000000</td>\n",
              "      <td>0.0</td>\n",
              "      <td>0.452055</td>\n",
              "      <td>0.800000</td>\n",
              "      <td>0.122449</td>\n",
              "    </tr>\n",
              "    <tr>\n",
              "      <th>2</th>\n",
              "      <td>2</td>\n",
              "      <td>1</td>\n",
              "      <td>&lt;=50K</td>\n",
              "      <td>1.0</td>\n",
              "      <td>1.0</td>\n",
              "      <td>0.0</td>\n",
              "      <td>0.0</td>\n",
              "      <td>0.0</td>\n",
              "      <td>0.0</td>\n",
              "      <td>0.0</td>\n",
              "      <td>...</td>\n",
              "      <td>0.0</td>\n",
              "      <td>0.0</td>\n",
              "      <td>1.0</td>\n",
              "      <td>1.0</td>\n",
              "      <td>0.138113</td>\n",
              "      <td>0.000000</td>\n",
              "      <td>0.0</td>\n",
              "      <td>0.287671</td>\n",
              "      <td>0.533333</td>\n",
              "      <td>0.397959</td>\n",
              "    </tr>\n",
              "    <tr>\n",
              "      <th>3</th>\n",
              "      <td>3</td>\n",
              "      <td>1</td>\n",
              "      <td>&lt;=50K</td>\n",
              "      <td>1.0</td>\n",
              "      <td>0.0</td>\n",
              "      <td>1.0</td>\n",
              "      <td>0.0</td>\n",
              "      <td>0.0</td>\n",
              "      <td>0.0</td>\n",
              "      <td>0.0</td>\n",
              "      <td>...</td>\n",
              "      <td>0.0</td>\n",
              "      <td>0.0</td>\n",
              "      <td>0.0</td>\n",
              "      <td>1.0</td>\n",
              "      <td>0.151068</td>\n",
              "      <td>0.000000</td>\n",
              "      <td>0.0</td>\n",
              "      <td>0.493151</td>\n",
              "      <td>0.400000</td>\n",
              "      <td>0.397959</td>\n",
              "    </tr>\n",
              "    <tr>\n",
              "      <th>4</th>\n",
              "      <td>4</td>\n",
              "      <td>0</td>\n",
              "      <td>&lt;=50K</td>\n",
              "      <td>1.0</td>\n",
              "      <td>0.0</td>\n",
              "      <td>1.0</td>\n",
              "      <td>0.0</td>\n",
              "      <td>0.0</td>\n",
              "      <td>0.0</td>\n",
              "      <td>0.0</td>\n",
              "      <td>...</td>\n",
              "      <td>0.0</td>\n",
              "      <td>0.0</td>\n",
              "      <td>0.0</td>\n",
              "      <td>0.0</td>\n",
              "      <td>0.221488</td>\n",
              "      <td>0.000000</td>\n",
              "      <td>0.0</td>\n",
              "      <td>0.150685</td>\n",
              "      <td>0.800000</td>\n",
              "      <td>0.397959</td>\n",
              "    </tr>\n",
              "    <tr>\n",
              "      <th>...</th>\n",
              "      <td>...</td>\n",
              "      <td>...</td>\n",
              "      <td>...</td>\n",
              "      <td>...</td>\n",
              "      <td>...</td>\n",
              "      <td>...</td>\n",
              "      <td>...</td>\n",
              "      <td>...</td>\n",
              "      <td>...</td>\n",
              "      <td>...</td>\n",
              "      <td>...</td>\n",
              "      <td>...</td>\n",
              "      <td>...</td>\n",
              "      <td>...</td>\n",
              "      <td>...</td>\n",
              "      <td>...</td>\n",
              "      <td>...</td>\n",
              "      <td>...</td>\n",
              "      <td>...</td>\n",
              "      <td>...</td>\n",
              "      <td>...</td>\n",
              "    </tr>\n",
              "    <tr>\n",
              "      <th>32556</th>\n",
              "      <td>32556</td>\n",
              "      <td>0</td>\n",
              "      <td>&lt;=50K</td>\n",
              "      <td>1.0</td>\n",
              "      <td>0.0</td>\n",
              "      <td>1.0</td>\n",
              "      <td>0.0</td>\n",
              "      <td>0.0</td>\n",
              "      <td>0.0</td>\n",
              "      <td>0.0</td>\n",
              "      <td>...</td>\n",
              "      <td>0.0</td>\n",
              "      <td>0.0</td>\n",
              "      <td>1.0</td>\n",
              "      <td>1.0</td>\n",
              "      <td>0.166404</td>\n",
              "      <td>0.000000</td>\n",
              "      <td>0.0</td>\n",
              "      <td>0.136986</td>\n",
              "      <td>0.733333</td>\n",
              "      <td>0.377551</td>\n",
              "    </tr>\n",
              "    <tr>\n",
              "      <th>32557</th>\n",
              "      <td>32557</td>\n",
              "      <td>1</td>\n",
              "      <td>&gt;50K</td>\n",
              "      <td>1.0</td>\n",
              "      <td>0.0</td>\n",
              "      <td>1.0</td>\n",
              "      <td>0.0</td>\n",
              "      <td>0.0</td>\n",
              "      <td>0.0</td>\n",
              "      <td>0.0</td>\n",
              "      <td>...</td>\n",
              "      <td>0.0</td>\n",
              "      <td>0.0</td>\n",
              "      <td>1.0</td>\n",
              "      <td>1.0</td>\n",
              "      <td>0.096500</td>\n",
              "      <td>0.000000</td>\n",
              "      <td>0.0</td>\n",
              "      <td>0.315068</td>\n",
              "      <td>0.533333</td>\n",
              "      <td>0.397959</td>\n",
              "    </tr>\n",
              "    <tr>\n",
              "      <th>32558</th>\n",
              "      <td>32558</td>\n",
              "      <td>0</td>\n",
              "      <td>&lt;=50K</td>\n",
              "      <td>1.0</td>\n",
              "      <td>0.0</td>\n",
              "      <td>0.0</td>\n",
              "      <td>0.0</td>\n",
              "      <td>1.0</td>\n",
              "      <td>0.0</td>\n",
              "      <td>0.0</td>\n",
              "      <td>...</td>\n",
              "      <td>0.0</td>\n",
              "      <td>1.0</td>\n",
              "      <td>1.0</td>\n",
              "      <td>1.0</td>\n",
              "      <td>0.094827</td>\n",
              "      <td>0.000000</td>\n",
              "      <td>0.0</td>\n",
              "      <td>0.561644</td>\n",
              "      <td>0.533333</td>\n",
              "      <td>0.397959</td>\n",
              "    </tr>\n",
              "    <tr>\n",
              "      <th>32559</th>\n",
              "      <td>32559</td>\n",
              "      <td>1</td>\n",
              "      <td>&lt;=50K</td>\n",
              "      <td>1.0</td>\n",
              "      <td>0.0</td>\n",
              "      <td>0.0</td>\n",
              "      <td>1.0</td>\n",
              "      <td>1.0</td>\n",
              "      <td>0.0</td>\n",
              "      <td>0.0</td>\n",
              "      <td>...</td>\n",
              "      <td>1.0</td>\n",
              "      <td>0.0</td>\n",
              "      <td>1.0</td>\n",
              "      <td>1.0</td>\n",
              "      <td>0.128499</td>\n",
              "      <td>0.000000</td>\n",
              "      <td>0.0</td>\n",
              "      <td>0.068493</td>\n",
              "      <td>0.533333</td>\n",
              "      <td>0.193878</td>\n",
              "    </tr>\n",
              "    <tr>\n",
              "      <th>32560</th>\n",
              "      <td>32560</td>\n",
              "      <td>0</td>\n",
              "      <td>&gt;50K</td>\n",
              "      <td>0.0</td>\n",
              "      <td>0.0</td>\n",
              "      <td>1.0</td>\n",
              "      <td>0.0</td>\n",
              "      <td>0.0</td>\n",
              "      <td>0.0</td>\n",
              "      <td>1.0</td>\n",
              "      <td>...</td>\n",
              "      <td>0.0</td>\n",
              "      <td>0.0</td>\n",
              "      <td>1.0</td>\n",
              "      <td>1.0</td>\n",
              "      <td>0.187203</td>\n",
              "      <td>0.150242</td>\n",
              "      <td>0.0</td>\n",
              "      <td>0.479452</td>\n",
              "      <td>0.533333</td>\n",
              "      <td>0.397959</td>\n",
              "    </tr>\n",
              "  </tbody>\n",
              "</table>\n",
              "<p>32561 rows × 25 columns</p>\n",
              "</div>\n",
              "    <div class=\"colab-df-buttons\">\n",
              "\n",
              "  <div class=\"colab-df-container\">\n",
              "    <button class=\"colab-df-convert\" onclick=\"convertToInteractive('df-dda4fdff-a0af-47a7-9012-40c5bf3660b9')\"\n",
              "            title=\"Convert this dataframe to an interactive table.\"\n",
              "            style=\"display:none;\">\n",
              "\n",
              "  <svg xmlns=\"http://www.w3.org/2000/svg\" height=\"24px\" viewBox=\"0 -960 960 960\">\n",
              "    <path d=\"M120-120v-720h720v720H120Zm60-500h600v-160H180v160Zm220 220h160v-160H400v160Zm0 220h160v-160H400v160ZM180-400h160v-160H180v160Zm440 0h160v-160H620v160ZM180-180h160v-160H180v160Zm440 0h160v-160H620v160Z\"/>\n",
              "  </svg>\n",
              "    </button>\n",
              "\n",
              "  <style>\n",
              "    .colab-df-container {\n",
              "      display:flex;\n",
              "      gap: 12px;\n",
              "    }\n",
              "\n",
              "    .colab-df-convert {\n",
              "      background-color: #E8F0FE;\n",
              "      border: none;\n",
              "      border-radius: 50%;\n",
              "      cursor: pointer;\n",
              "      display: none;\n",
              "      fill: #1967D2;\n",
              "      height: 32px;\n",
              "      padding: 0 0 0 0;\n",
              "      width: 32px;\n",
              "    }\n",
              "\n",
              "    .colab-df-convert:hover {\n",
              "      background-color: #E2EBFA;\n",
              "      box-shadow: 0px 1px 2px rgba(60, 64, 67, 0.3), 0px 1px 3px 1px rgba(60, 64, 67, 0.15);\n",
              "      fill: #174EA6;\n",
              "    }\n",
              "\n",
              "    .colab-df-buttons div {\n",
              "      margin-bottom: 4px;\n",
              "    }\n",
              "\n",
              "    [theme=dark] .colab-df-convert {\n",
              "      background-color: #3B4455;\n",
              "      fill: #D2E3FC;\n",
              "    }\n",
              "\n",
              "    [theme=dark] .colab-df-convert:hover {\n",
              "      background-color: #434B5C;\n",
              "      box-shadow: 0px 1px 3px 1px rgba(0, 0, 0, 0.15);\n",
              "      filter: drop-shadow(0px 1px 2px rgba(0, 0, 0, 0.3));\n",
              "      fill: #FFFFFF;\n",
              "    }\n",
              "  </style>\n",
              "\n",
              "    <script>\n",
              "      const buttonEl =\n",
              "        document.querySelector('#df-dda4fdff-a0af-47a7-9012-40c5bf3660b9 button.colab-df-convert');\n",
              "      buttonEl.style.display =\n",
              "        google.colab.kernel.accessAllowed ? 'block' : 'none';\n",
              "\n",
              "      async function convertToInteractive(key) {\n",
              "        const element = document.querySelector('#df-dda4fdff-a0af-47a7-9012-40c5bf3660b9');\n",
              "        const dataTable =\n",
              "          await google.colab.kernel.invokeFunction('convertToInteractive',\n",
              "                                                    [key], {});\n",
              "        if (!dataTable) return;\n",
              "\n",
              "        const docLinkHtml = 'Like what you see? Visit the ' +\n",
              "          '<a target=\"_blank\" href=https://colab.research.google.com/notebooks/data_table.ipynb>data table notebook</a>'\n",
              "          + ' to learn more about interactive tables.';\n",
              "        element.innerHTML = '';\n",
              "        dataTable['output_type'] = 'display_data';\n",
              "        await google.colab.output.renderOutput(dataTable, element);\n",
              "        const docLink = document.createElement('div');\n",
              "        docLink.innerHTML = docLinkHtml;\n",
              "        element.appendChild(docLink);\n",
              "      }\n",
              "    </script>\n",
              "  </div>\n",
              "\n",
              "\n",
              "<div id=\"df-8620590a-b4b2-44ec-895c-4e6a9444e304\">\n",
              "  <button class=\"colab-df-quickchart\" onclick=\"quickchart('df-8620590a-b4b2-44ec-895c-4e6a9444e304')\"\n",
              "            title=\"Suggest charts\"\n",
              "            style=\"display:none;\">\n",
              "\n",
              "<svg xmlns=\"http://www.w3.org/2000/svg\" height=\"24px\"viewBox=\"0 0 24 24\"\n",
              "     width=\"24px\">\n",
              "    <g>\n",
              "        <path d=\"M19 3H5c-1.1 0-2 .9-2 2v14c0 1.1.9 2 2 2h14c1.1 0 2-.9 2-2V5c0-1.1-.9-2-2-2zM9 17H7v-7h2v7zm4 0h-2V7h2v10zm4 0h-2v-4h2v4z\"/>\n",
              "    </g>\n",
              "</svg>\n",
              "  </button>\n",
              "\n",
              "<style>\n",
              "  .colab-df-quickchart {\n",
              "      --bg-color: #E8F0FE;\n",
              "      --fill-color: #1967D2;\n",
              "      --hover-bg-color: #E2EBFA;\n",
              "      --hover-fill-color: #174EA6;\n",
              "      --disabled-fill-color: #AAA;\n",
              "      --disabled-bg-color: #DDD;\n",
              "  }\n",
              "\n",
              "  [theme=dark] .colab-df-quickchart {\n",
              "      --bg-color: #3B4455;\n",
              "      --fill-color: #D2E3FC;\n",
              "      --hover-bg-color: #434B5C;\n",
              "      --hover-fill-color: #FFFFFF;\n",
              "      --disabled-bg-color: #3B4455;\n",
              "      --disabled-fill-color: #666;\n",
              "  }\n",
              "\n",
              "  .colab-df-quickchart {\n",
              "    background-color: var(--bg-color);\n",
              "    border: none;\n",
              "    border-radius: 50%;\n",
              "    cursor: pointer;\n",
              "    display: none;\n",
              "    fill: var(--fill-color);\n",
              "    height: 32px;\n",
              "    padding: 0;\n",
              "    width: 32px;\n",
              "  }\n",
              "\n",
              "  .colab-df-quickchart:hover {\n",
              "    background-color: var(--hover-bg-color);\n",
              "    box-shadow: 0 1px 2px rgba(60, 64, 67, 0.3), 0 1px 3px 1px rgba(60, 64, 67, 0.15);\n",
              "    fill: var(--button-hover-fill-color);\n",
              "  }\n",
              "\n",
              "  .colab-df-quickchart-complete:disabled,\n",
              "  .colab-df-quickchart-complete:disabled:hover {\n",
              "    background-color: var(--disabled-bg-color);\n",
              "    fill: var(--disabled-fill-color);\n",
              "    box-shadow: none;\n",
              "  }\n",
              "\n",
              "  .colab-df-spinner {\n",
              "    border: 2px solid var(--fill-color);\n",
              "    border-color: transparent;\n",
              "    border-bottom-color: var(--fill-color);\n",
              "    animation:\n",
              "      spin 1s steps(1) infinite;\n",
              "  }\n",
              "\n",
              "  @keyframes spin {\n",
              "    0% {\n",
              "      border-color: transparent;\n",
              "      border-bottom-color: var(--fill-color);\n",
              "      border-left-color: var(--fill-color);\n",
              "    }\n",
              "    20% {\n",
              "      border-color: transparent;\n",
              "      border-left-color: var(--fill-color);\n",
              "      border-top-color: var(--fill-color);\n",
              "    }\n",
              "    30% {\n",
              "      border-color: transparent;\n",
              "      border-left-color: var(--fill-color);\n",
              "      border-top-color: var(--fill-color);\n",
              "      border-right-color: var(--fill-color);\n",
              "    }\n",
              "    40% {\n",
              "      border-color: transparent;\n",
              "      border-right-color: var(--fill-color);\n",
              "      border-top-color: var(--fill-color);\n",
              "    }\n",
              "    60% {\n",
              "      border-color: transparent;\n",
              "      border-right-color: var(--fill-color);\n",
              "    }\n",
              "    80% {\n",
              "      border-color: transparent;\n",
              "      border-right-color: var(--fill-color);\n",
              "      border-bottom-color: var(--fill-color);\n",
              "    }\n",
              "    90% {\n",
              "      border-color: transparent;\n",
              "      border-bottom-color: var(--fill-color);\n",
              "    }\n",
              "  }\n",
              "</style>\n",
              "\n",
              "  <script>\n",
              "    async function quickchart(key) {\n",
              "      const quickchartButtonEl =\n",
              "        document.querySelector('#' + key + ' button');\n",
              "      quickchartButtonEl.disabled = true;  // To prevent multiple clicks.\n",
              "      quickchartButtonEl.classList.add('colab-df-spinner');\n",
              "      try {\n",
              "        const charts = await google.colab.kernel.invokeFunction(\n",
              "            'suggestCharts', [key], {});\n",
              "      } catch (error) {\n",
              "        console.error('Error during call to suggestCharts:', error);\n",
              "      }\n",
              "      quickchartButtonEl.classList.remove('colab-df-spinner');\n",
              "      quickchartButtonEl.classList.add('colab-df-quickchart-complete');\n",
              "    }\n",
              "    (() => {\n",
              "      let quickchartButtonEl =\n",
              "        document.querySelector('#df-8620590a-b4b2-44ec-895c-4e6a9444e304 button');\n",
              "      quickchartButtonEl.style.display =\n",
              "        google.colab.kernel.accessAllowed ? 'block' : 'none';\n",
              "    })();\n",
              "  </script>\n",
              "</div>\n",
              "    </div>\n",
              "  </div>\n"
            ],
            "application/vnd.google.colaboratory.intrinsic+json": {
              "type": "dataframe",
              "variable_name": "df_adult_normal"
            }
          },
          "metadata": {},
          "execution_count": 4
        }
      ],
      "source": [
        "df_adult_normal"
      ]
    },
    {
      "cell_type": "code",
      "execution_count": 5,
      "metadata": {
        "id": "hk86n5giGT1-"
      },
      "outputs": [],
      "source": [
        "df_adult_normal.drop(columns=['Unnamed: 0'], inplace = True)"
      ]
    },
    {
      "cell_type": "code",
      "execution_count": 6,
      "metadata": {
        "colab": {
          "base_uri": "https://localhost:8080/",
          "height": 0
        },
        "id": "FSFbGwdzGy1q",
        "outputId": "bada67f7-7d40-4dd2-d039-d0d078ed6e01"
      },
      "outputs": [
        {
          "output_type": "execute_result",
          "data": {
            "text/plain": [
              "    sex  income  workclass_ Private  marital-status_ Divorced  \\\n",
              "0     1   <=50K                 0.0                       0.0   \n",
              "1     1   <=50K                 0.0                       0.0   \n",
              "2     1   <=50K                 1.0                       1.0   \n",
              "3     1   <=50K                 1.0                       0.0   \n",
              "4     0   <=50K                 1.0                       0.0   \n",
              "5     0   <=50K                 1.0                       0.0   \n",
              "6     0   <=50K                 1.0                       0.0   \n",
              "7     1    >50K                 0.0                       0.0   \n",
              "8     0    >50K                 1.0                       0.0   \n",
              "9     1    >50K                 1.0                       0.0   \n",
              "10    1    >50K                 1.0                       0.0   \n",
              "11    1    >50K                 0.0                       0.0   \n",
              "12    0   <=50K                 1.0                       0.0   \n",
              "13    1   <=50K                 1.0                       0.0   \n",
              "14    1    >50K                 1.0                       0.0   \n",
              "\n",
              "    marital-status_ Married-civ-spouse  marital-status_ Never-married  \\\n",
              "0                                  0.0                            1.0   \n",
              "1                                  1.0                            0.0   \n",
              "2                                  0.0                            0.0   \n",
              "3                                  1.0                            0.0   \n",
              "4                                  1.0                            0.0   \n",
              "5                                  1.0                            0.0   \n",
              "6                                  0.0                            0.0   \n",
              "7                                  1.0                            0.0   \n",
              "8                                  0.0                            1.0   \n",
              "9                                  1.0                            0.0   \n",
              "10                                 1.0                            0.0   \n",
              "11                                 1.0                            0.0   \n",
              "12                                 0.0                            1.0   \n",
              "13                                 0.0                            1.0   \n",
              "14                                 1.0                            0.0   \n",
              "\n",
              "    occupation_ Adm-clerical  occupation_ Craft-repair  \\\n",
              "0                        1.0                       0.0   \n",
              "1                        0.0                       0.0   \n",
              "2                        0.0                       0.0   \n",
              "3                        0.0                       0.0   \n",
              "4                        0.0                       0.0   \n",
              "5                        0.0                       0.0   \n",
              "6                        0.0                       0.0   \n",
              "7                        0.0                       0.0   \n",
              "8                        0.0                       0.0   \n",
              "9                        0.0                       0.0   \n",
              "10                       0.0                       0.0   \n",
              "11                       0.0                       0.0   \n",
              "12                       1.0                       0.0   \n",
              "13                       0.0                       0.0   \n",
              "14                       0.0                       1.0   \n",
              "\n",
              "    occupation_ Exec-managerial  occupation_ Other-service  ...  \\\n",
              "0                           0.0                        0.0  ...   \n",
              "1                           1.0                        0.0  ...   \n",
              "2                           0.0                        0.0  ...   \n",
              "3                           0.0                        0.0  ...   \n",
              "4                           0.0                        0.0  ...   \n",
              "5                           1.0                        0.0  ...   \n",
              "6                           0.0                        1.0  ...   \n",
              "7                           1.0                        0.0  ...   \n",
              "8                           0.0                        0.0  ...   \n",
              "9                           1.0                        0.0  ...   \n",
              "10                          1.0                        0.0  ...   \n",
              "11                          0.0                        0.0  ...   \n",
              "12                          0.0                        0.0  ...   \n",
              "13                          0.0                        0.0  ...   \n",
              "14                          0.0                        0.0  ...   \n",
              "\n",
              "    relationship_ Own-child  relationship_ Unmarried  race_ White  \\\n",
              "0                       0.0                      0.0          1.0   \n",
              "1                       0.0                      0.0          1.0   \n",
              "2                       0.0                      0.0          1.0   \n",
              "3                       0.0                      0.0          0.0   \n",
              "4                       0.0                      0.0          0.0   \n",
              "5                       0.0                      0.0          1.0   \n",
              "6                       0.0                      0.0          0.0   \n",
              "7                       0.0                      0.0          1.0   \n",
              "8                       0.0                      0.0          1.0   \n",
              "9                       0.0                      0.0          1.0   \n",
              "10                      0.0                      0.0          0.0   \n",
              "11                      0.0                      0.0          0.0   \n",
              "12                      1.0                      0.0          1.0   \n",
              "13                      0.0                      0.0          0.0   \n",
              "14                      0.0                      0.0          0.0   \n",
              "\n",
              "    native-country_ United-States  fnlwgt_normalized  capital-gain_normalized  \\\n",
              "0                             1.0           0.044302                 0.021740   \n",
              "1                             1.0           0.048238                 0.000000   \n",
              "2                             1.0           0.138113                 0.000000   \n",
              "3                             1.0           0.151068                 0.000000   \n",
              "4                             0.0           0.221488                 0.000000   \n",
              "5                             1.0           0.184932                 0.000000   \n",
              "6                             0.0           0.100448                 0.000000   \n",
              "7                             1.0           0.134036                 0.000000   \n",
              "8                             1.0           0.022749                 0.140841   \n",
              "9                             1.0           0.099947                 0.051781   \n",
              "10                            1.0           0.182135                 0.000000   \n",
              "11                            0.0           0.087619                 0.000000   \n",
              "12                            1.0           0.074698                 0.000000   \n",
              "13                            1.0           0.130896                 0.000000   \n",
              "14                            1.0           0.074359                 0.000000   \n",
              "\n",
              "    capital-loss_normalized  age_normalized  education-num_normalized  \\\n",
              "0                       0.0        0.301370                  0.800000   \n",
              "1                       0.0        0.452055                  0.800000   \n",
              "2                       0.0        0.287671                  0.533333   \n",
              "3                       0.0        0.493151                  0.400000   \n",
              "4                       0.0        0.150685                  0.800000   \n",
              "5                       0.0        0.273973                  0.866667   \n",
              "6                       0.0        0.438356                  0.266667   \n",
              "7                       0.0        0.479452                  0.533333   \n",
              "8                       0.0        0.191781                  0.866667   \n",
              "9                       0.0        0.342466                  0.800000   \n",
              "10                      0.0        0.273973                  0.600000   \n",
              "11                      0.0        0.178082                  0.800000   \n",
              "12                      0.0        0.082192                  0.800000   \n",
              "13                      0.0        0.205479                  0.733333   \n",
              "14                      0.0        0.315068                  0.666667   \n",
              "\n",
              "    hours-per-week_normalized  \n",
              "0                    0.397959  \n",
              "1                    0.122449  \n",
              "2                    0.397959  \n",
              "3                    0.397959  \n",
              "4                    0.397959  \n",
              "5                    0.397959  \n",
              "6                    0.153061  \n",
              "7                    0.448980  \n",
              "8                    0.500000  \n",
              "9                    0.397959  \n",
              "10                   0.806122  \n",
              "11                   0.397959  \n",
              "12                   0.295918  \n",
              "13                   0.500000  \n",
              "14                   0.397959  \n",
              "\n",
              "[15 rows x 24 columns]"
            ],
            "text/html": [
              "\n",
              "  <div id=\"df-0ed5e1f0-69b2-476e-ad42-10d2ab6b0821\" class=\"colab-df-container\">\n",
              "    <div>\n",
              "<style scoped>\n",
              "    .dataframe tbody tr th:only-of-type {\n",
              "        vertical-align: middle;\n",
              "    }\n",
              "\n",
              "    .dataframe tbody tr th {\n",
              "        vertical-align: top;\n",
              "    }\n",
              "\n",
              "    .dataframe thead th {\n",
              "        text-align: right;\n",
              "    }\n",
              "</style>\n",
              "<table border=\"1\" class=\"dataframe\">\n",
              "  <thead>\n",
              "    <tr style=\"text-align: right;\">\n",
              "      <th></th>\n",
              "      <th>sex</th>\n",
              "      <th>income</th>\n",
              "      <th>workclass_ Private</th>\n",
              "      <th>marital-status_ Divorced</th>\n",
              "      <th>marital-status_ Married-civ-spouse</th>\n",
              "      <th>marital-status_ Never-married</th>\n",
              "      <th>occupation_ Adm-clerical</th>\n",
              "      <th>occupation_ Craft-repair</th>\n",
              "      <th>occupation_ Exec-managerial</th>\n",
              "      <th>occupation_ Other-service</th>\n",
              "      <th>...</th>\n",
              "      <th>relationship_ Own-child</th>\n",
              "      <th>relationship_ Unmarried</th>\n",
              "      <th>race_ White</th>\n",
              "      <th>native-country_ United-States</th>\n",
              "      <th>fnlwgt_normalized</th>\n",
              "      <th>capital-gain_normalized</th>\n",
              "      <th>capital-loss_normalized</th>\n",
              "      <th>age_normalized</th>\n",
              "      <th>education-num_normalized</th>\n",
              "      <th>hours-per-week_normalized</th>\n",
              "    </tr>\n",
              "  </thead>\n",
              "  <tbody>\n",
              "    <tr>\n",
              "      <th>0</th>\n",
              "      <td>1</td>\n",
              "      <td>&lt;=50K</td>\n",
              "      <td>0.0</td>\n",
              "      <td>0.0</td>\n",
              "      <td>0.0</td>\n",
              "      <td>1.0</td>\n",
              "      <td>1.0</td>\n",
              "      <td>0.0</td>\n",
              "      <td>0.0</td>\n",
              "      <td>0.0</td>\n",
              "      <td>...</td>\n",
              "      <td>0.0</td>\n",
              "      <td>0.0</td>\n",
              "      <td>1.0</td>\n",
              "      <td>1.0</td>\n",
              "      <td>0.044302</td>\n",
              "      <td>0.021740</td>\n",
              "      <td>0.0</td>\n",
              "      <td>0.301370</td>\n",
              "      <td>0.800000</td>\n",
              "      <td>0.397959</td>\n",
              "    </tr>\n",
              "    <tr>\n",
              "      <th>1</th>\n",
              "      <td>1</td>\n",
              "      <td>&lt;=50K</td>\n",
              "      <td>0.0</td>\n",
              "      <td>0.0</td>\n",
              "      <td>1.0</td>\n",
              "      <td>0.0</td>\n",
              "      <td>0.0</td>\n",
              "      <td>0.0</td>\n",
              "      <td>1.0</td>\n",
              "      <td>0.0</td>\n",
              "      <td>...</td>\n",
              "      <td>0.0</td>\n",
              "      <td>0.0</td>\n",
              "      <td>1.0</td>\n",
              "      <td>1.0</td>\n",
              "      <td>0.048238</td>\n",
              "      <td>0.000000</td>\n",
              "      <td>0.0</td>\n",
              "      <td>0.452055</td>\n",
              "      <td>0.800000</td>\n",
              "      <td>0.122449</td>\n",
              "    </tr>\n",
              "    <tr>\n",
              "      <th>2</th>\n",
              "      <td>1</td>\n",
              "      <td>&lt;=50K</td>\n",
              "      <td>1.0</td>\n",
              "      <td>1.0</td>\n",
              "      <td>0.0</td>\n",
              "      <td>0.0</td>\n",
              "      <td>0.0</td>\n",
              "      <td>0.0</td>\n",
              "      <td>0.0</td>\n",
              "      <td>0.0</td>\n",
              "      <td>...</td>\n",
              "      <td>0.0</td>\n",
              "      <td>0.0</td>\n",
              "      <td>1.0</td>\n",
              "      <td>1.0</td>\n",
              "      <td>0.138113</td>\n",
              "      <td>0.000000</td>\n",
              "      <td>0.0</td>\n",
              "      <td>0.287671</td>\n",
              "      <td>0.533333</td>\n",
              "      <td>0.397959</td>\n",
              "    </tr>\n",
              "    <tr>\n",
              "      <th>3</th>\n",
              "      <td>1</td>\n",
              "      <td>&lt;=50K</td>\n",
              "      <td>1.0</td>\n",
              "      <td>0.0</td>\n",
              "      <td>1.0</td>\n",
              "      <td>0.0</td>\n",
              "      <td>0.0</td>\n",
              "      <td>0.0</td>\n",
              "      <td>0.0</td>\n",
              "      <td>0.0</td>\n",
              "      <td>...</td>\n",
              "      <td>0.0</td>\n",
              "      <td>0.0</td>\n",
              "      <td>0.0</td>\n",
              "      <td>1.0</td>\n",
              "      <td>0.151068</td>\n",
              "      <td>0.000000</td>\n",
              "      <td>0.0</td>\n",
              "      <td>0.493151</td>\n",
              "      <td>0.400000</td>\n",
              "      <td>0.397959</td>\n",
              "    </tr>\n",
              "    <tr>\n",
              "      <th>4</th>\n",
              "      <td>0</td>\n",
              "      <td>&lt;=50K</td>\n",
              "      <td>1.0</td>\n",
              "      <td>0.0</td>\n",
              "      <td>1.0</td>\n",
              "      <td>0.0</td>\n",
              "      <td>0.0</td>\n",
              "      <td>0.0</td>\n",
              "      <td>0.0</td>\n",
              "      <td>0.0</td>\n",
              "      <td>...</td>\n",
              "      <td>0.0</td>\n",
              "      <td>0.0</td>\n",
              "      <td>0.0</td>\n",
              "      <td>0.0</td>\n",
              "      <td>0.221488</td>\n",
              "      <td>0.000000</td>\n",
              "      <td>0.0</td>\n",
              "      <td>0.150685</td>\n",
              "      <td>0.800000</td>\n",
              "      <td>0.397959</td>\n",
              "    </tr>\n",
              "    <tr>\n",
              "      <th>5</th>\n",
              "      <td>0</td>\n",
              "      <td>&lt;=50K</td>\n",
              "      <td>1.0</td>\n",
              "      <td>0.0</td>\n",
              "      <td>1.0</td>\n",
              "      <td>0.0</td>\n",
              "      <td>0.0</td>\n",
              "      <td>0.0</td>\n",
              "      <td>1.0</td>\n",
              "      <td>0.0</td>\n",
              "      <td>...</td>\n",
              "      <td>0.0</td>\n",
              "      <td>0.0</td>\n",
              "      <td>1.0</td>\n",
              "      <td>1.0</td>\n",
              "      <td>0.184932</td>\n",
              "      <td>0.000000</td>\n",
              "      <td>0.0</td>\n",
              "      <td>0.273973</td>\n",
              "      <td>0.866667</td>\n",
              "      <td>0.397959</td>\n",
              "    </tr>\n",
              "    <tr>\n",
              "      <th>6</th>\n",
              "      <td>0</td>\n",
              "      <td>&lt;=50K</td>\n",
              "      <td>1.0</td>\n",
              "      <td>0.0</td>\n",
              "      <td>0.0</td>\n",
              "      <td>0.0</td>\n",
              "      <td>0.0</td>\n",
              "      <td>0.0</td>\n",
              "      <td>0.0</td>\n",
              "      <td>1.0</td>\n",
              "      <td>...</td>\n",
              "      <td>0.0</td>\n",
              "      <td>0.0</td>\n",
              "      <td>0.0</td>\n",
              "      <td>0.0</td>\n",
              "      <td>0.100448</td>\n",
              "      <td>0.000000</td>\n",
              "      <td>0.0</td>\n",
              "      <td>0.438356</td>\n",
              "      <td>0.266667</td>\n",
              "      <td>0.153061</td>\n",
              "    </tr>\n",
              "    <tr>\n",
              "      <th>7</th>\n",
              "      <td>1</td>\n",
              "      <td>&gt;50K</td>\n",
              "      <td>0.0</td>\n",
              "      <td>0.0</td>\n",
              "      <td>1.0</td>\n",
              "      <td>0.0</td>\n",
              "      <td>0.0</td>\n",
              "      <td>0.0</td>\n",
              "      <td>1.0</td>\n",
              "      <td>0.0</td>\n",
              "      <td>...</td>\n",
              "      <td>0.0</td>\n",
              "      <td>0.0</td>\n",
              "      <td>1.0</td>\n",
              "      <td>1.0</td>\n",
              "      <td>0.134036</td>\n",
              "      <td>0.000000</td>\n",
              "      <td>0.0</td>\n",
              "      <td>0.479452</td>\n",
              "      <td>0.533333</td>\n",
              "      <td>0.448980</td>\n",
              "    </tr>\n",
              "    <tr>\n",
              "      <th>8</th>\n",
              "      <td>0</td>\n",
              "      <td>&gt;50K</td>\n",
              "      <td>1.0</td>\n",
              "      <td>0.0</td>\n",
              "      <td>0.0</td>\n",
              "      <td>1.0</td>\n",
              "      <td>0.0</td>\n",
              "      <td>0.0</td>\n",
              "      <td>0.0</td>\n",
              "      <td>0.0</td>\n",
              "      <td>...</td>\n",
              "      <td>0.0</td>\n",
              "      <td>0.0</td>\n",
              "      <td>1.0</td>\n",
              "      <td>1.0</td>\n",
              "      <td>0.022749</td>\n",
              "      <td>0.140841</td>\n",
              "      <td>0.0</td>\n",
              "      <td>0.191781</td>\n",
              "      <td>0.866667</td>\n",
              "      <td>0.500000</td>\n",
              "    </tr>\n",
              "    <tr>\n",
              "      <th>9</th>\n",
              "      <td>1</td>\n",
              "      <td>&gt;50K</td>\n",
              "      <td>1.0</td>\n",
              "      <td>0.0</td>\n",
              "      <td>1.0</td>\n",
              "      <td>0.0</td>\n",
              "      <td>0.0</td>\n",
              "      <td>0.0</td>\n",
              "      <td>1.0</td>\n",
              "      <td>0.0</td>\n",
              "      <td>...</td>\n",
              "      <td>0.0</td>\n",
              "      <td>0.0</td>\n",
              "      <td>1.0</td>\n",
              "      <td>1.0</td>\n",
              "      <td>0.099947</td>\n",
              "      <td>0.051781</td>\n",
              "      <td>0.0</td>\n",
              "      <td>0.342466</td>\n",
              "      <td>0.800000</td>\n",
              "      <td>0.397959</td>\n",
              "    </tr>\n",
              "    <tr>\n",
              "      <th>10</th>\n",
              "      <td>1</td>\n",
              "      <td>&gt;50K</td>\n",
              "      <td>1.0</td>\n",
              "      <td>0.0</td>\n",
              "      <td>1.0</td>\n",
              "      <td>0.0</td>\n",
              "      <td>0.0</td>\n",
              "      <td>0.0</td>\n",
              "      <td>1.0</td>\n",
              "      <td>0.0</td>\n",
              "      <td>...</td>\n",
              "      <td>0.0</td>\n",
              "      <td>0.0</td>\n",
              "      <td>0.0</td>\n",
              "      <td>1.0</td>\n",
              "      <td>0.182135</td>\n",
              "      <td>0.000000</td>\n",
              "      <td>0.0</td>\n",
              "      <td>0.273973</td>\n",
              "      <td>0.600000</td>\n",
              "      <td>0.806122</td>\n",
              "    </tr>\n",
              "    <tr>\n",
              "      <th>11</th>\n",
              "      <td>1</td>\n",
              "      <td>&gt;50K</td>\n",
              "      <td>0.0</td>\n",
              "      <td>0.0</td>\n",
              "      <td>1.0</td>\n",
              "      <td>0.0</td>\n",
              "      <td>0.0</td>\n",
              "      <td>0.0</td>\n",
              "      <td>0.0</td>\n",
              "      <td>0.0</td>\n",
              "      <td>...</td>\n",
              "      <td>0.0</td>\n",
              "      <td>0.0</td>\n",
              "      <td>0.0</td>\n",
              "      <td>0.0</td>\n",
              "      <td>0.087619</td>\n",
              "      <td>0.000000</td>\n",
              "      <td>0.0</td>\n",
              "      <td>0.178082</td>\n",
              "      <td>0.800000</td>\n",
              "      <td>0.397959</td>\n",
              "    </tr>\n",
              "    <tr>\n",
              "      <th>12</th>\n",
              "      <td>0</td>\n",
              "      <td>&lt;=50K</td>\n",
              "      <td>1.0</td>\n",
              "      <td>0.0</td>\n",
              "      <td>0.0</td>\n",
              "      <td>1.0</td>\n",
              "      <td>1.0</td>\n",
              "      <td>0.0</td>\n",
              "      <td>0.0</td>\n",
              "      <td>0.0</td>\n",
              "      <td>...</td>\n",
              "      <td>1.0</td>\n",
              "      <td>0.0</td>\n",
              "      <td>1.0</td>\n",
              "      <td>1.0</td>\n",
              "      <td>0.074698</td>\n",
              "      <td>0.000000</td>\n",
              "      <td>0.0</td>\n",
              "      <td>0.082192</td>\n",
              "      <td>0.800000</td>\n",
              "      <td>0.295918</td>\n",
              "    </tr>\n",
              "    <tr>\n",
              "      <th>13</th>\n",
              "      <td>1</td>\n",
              "      <td>&lt;=50K</td>\n",
              "      <td>1.0</td>\n",
              "      <td>0.0</td>\n",
              "      <td>0.0</td>\n",
              "      <td>1.0</td>\n",
              "      <td>0.0</td>\n",
              "      <td>0.0</td>\n",
              "      <td>0.0</td>\n",
              "      <td>0.0</td>\n",
              "      <td>...</td>\n",
              "      <td>0.0</td>\n",
              "      <td>0.0</td>\n",
              "      <td>0.0</td>\n",
              "      <td>1.0</td>\n",
              "      <td>0.130896</td>\n",
              "      <td>0.000000</td>\n",
              "      <td>0.0</td>\n",
              "      <td>0.205479</td>\n",
              "      <td>0.733333</td>\n",
              "      <td>0.500000</td>\n",
              "    </tr>\n",
              "    <tr>\n",
              "      <th>14</th>\n",
              "      <td>1</td>\n",
              "      <td>&gt;50K</td>\n",
              "      <td>1.0</td>\n",
              "      <td>0.0</td>\n",
              "      <td>1.0</td>\n",
              "      <td>0.0</td>\n",
              "      <td>0.0</td>\n",
              "      <td>1.0</td>\n",
              "      <td>0.0</td>\n",
              "      <td>0.0</td>\n",
              "      <td>...</td>\n",
              "      <td>0.0</td>\n",
              "      <td>0.0</td>\n",
              "      <td>0.0</td>\n",
              "      <td>1.0</td>\n",
              "      <td>0.074359</td>\n",
              "      <td>0.000000</td>\n",
              "      <td>0.0</td>\n",
              "      <td>0.315068</td>\n",
              "      <td>0.666667</td>\n",
              "      <td>0.397959</td>\n",
              "    </tr>\n",
              "  </tbody>\n",
              "</table>\n",
              "<p>15 rows × 24 columns</p>\n",
              "</div>\n",
              "    <div class=\"colab-df-buttons\">\n",
              "\n",
              "  <div class=\"colab-df-container\">\n",
              "    <button class=\"colab-df-convert\" onclick=\"convertToInteractive('df-0ed5e1f0-69b2-476e-ad42-10d2ab6b0821')\"\n",
              "            title=\"Convert this dataframe to an interactive table.\"\n",
              "            style=\"display:none;\">\n",
              "\n",
              "  <svg xmlns=\"http://www.w3.org/2000/svg\" height=\"24px\" viewBox=\"0 -960 960 960\">\n",
              "    <path d=\"M120-120v-720h720v720H120Zm60-500h600v-160H180v160Zm220 220h160v-160H400v160Zm0 220h160v-160H400v160ZM180-400h160v-160H180v160Zm440 0h160v-160H620v160ZM180-180h160v-160H180v160Zm440 0h160v-160H620v160Z\"/>\n",
              "  </svg>\n",
              "    </button>\n",
              "\n",
              "  <style>\n",
              "    .colab-df-container {\n",
              "      display:flex;\n",
              "      gap: 12px;\n",
              "    }\n",
              "\n",
              "    .colab-df-convert {\n",
              "      background-color: #E8F0FE;\n",
              "      border: none;\n",
              "      border-radius: 50%;\n",
              "      cursor: pointer;\n",
              "      display: none;\n",
              "      fill: #1967D2;\n",
              "      height: 32px;\n",
              "      padding: 0 0 0 0;\n",
              "      width: 32px;\n",
              "    }\n",
              "\n",
              "    .colab-df-convert:hover {\n",
              "      background-color: #E2EBFA;\n",
              "      box-shadow: 0px 1px 2px rgba(60, 64, 67, 0.3), 0px 1px 3px 1px rgba(60, 64, 67, 0.15);\n",
              "      fill: #174EA6;\n",
              "    }\n",
              "\n",
              "    .colab-df-buttons div {\n",
              "      margin-bottom: 4px;\n",
              "    }\n",
              "\n",
              "    [theme=dark] .colab-df-convert {\n",
              "      background-color: #3B4455;\n",
              "      fill: #D2E3FC;\n",
              "    }\n",
              "\n",
              "    [theme=dark] .colab-df-convert:hover {\n",
              "      background-color: #434B5C;\n",
              "      box-shadow: 0px 1px 3px 1px rgba(0, 0, 0, 0.15);\n",
              "      filter: drop-shadow(0px 1px 2px rgba(0, 0, 0, 0.3));\n",
              "      fill: #FFFFFF;\n",
              "    }\n",
              "  </style>\n",
              "\n",
              "    <script>\n",
              "      const buttonEl =\n",
              "        document.querySelector('#df-0ed5e1f0-69b2-476e-ad42-10d2ab6b0821 button.colab-df-convert');\n",
              "      buttonEl.style.display =\n",
              "        google.colab.kernel.accessAllowed ? 'block' : 'none';\n",
              "\n",
              "      async function convertToInteractive(key) {\n",
              "        const element = document.querySelector('#df-0ed5e1f0-69b2-476e-ad42-10d2ab6b0821');\n",
              "        const dataTable =\n",
              "          await google.colab.kernel.invokeFunction('convertToInteractive',\n",
              "                                                    [key], {});\n",
              "        if (!dataTable) return;\n",
              "\n",
              "        const docLinkHtml = 'Like what you see? Visit the ' +\n",
              "          '<a target=\"_blank\" href=https://colab.research.google.com/notebooks/data_table.ipynb>data table notebook</a>'\n",
              "          + ' to learn more about interactive tables.';\n",
              "        element.innerHTML = '';\n",
              "        dataTable['output_type'] = 'display_data';\n",
              "        await google.colab.output.renderOutput(dataTable, element);\n",
              "        const docLink = document.createElement('div');\n",
              "        docLink.innerHTML = docLinkHtml;\n",
              "        element.appendChild(docLink);\n",
              "      }\n",
              "    </script>\n",
              "  </div>\n",
              "\n",
              "\n",
              "<div id=\"df-0a729c0b-a1d4-44d2-a0cd-3c2488460c51\">\n",
              "  <button class=\"colab-df-quickchart\" onclick=\"quickchart('df-0a729c0b-a1d4-44d2-a0cd-3c2488460c51')\"\n",
              "            title=\"Suggest charts\"\n",
              "            style=\"display:none;\">\n",
              "\n",
              "<svg xmlns=\"http://www.w3.org/2000/svg\" height=\"24px\"viewBox=\"0 0 24 24\"\n",
              "     width=\"24px\">\n",
              "    <g>\n",
              "        <path d=\"M19 3H5c-1.1 0-2 .9-2 2v14c0 1.1.9 2 2 2h14c1.1 0 2-.9 2-2V5c0-1.1-.9-2-2-2zM9 17H7v-7h2v7zm4 0h-2V7h2v10zm4 0h-2v-4h2v4z\"/>\n",
              "    </g>\n",
              "</svg>\n",
              "  </button>\n",
              "\n",
              "<style>\n",
              "  .colab-df-quickchart {\n",
              "      --bg-color: #E8F0FE;\n",
              "      --fill-color: #1967D2;\n",
              "      --hover-bg-color: #E2EBFA;\n",
              "      --hover-fill-color: #174EA6;\n",
              "      --disabled-fill-color: #AAA;\n",
              "      --disabled-bg-color: #DDD;\n",
              "  }\n",
              "\n",
              "  [theme=dark] .colab-df-quickchart {\n",
              "      --bg-color: #3B4455;\n",
              "      --fill-color: #D2E3FC;\n",
              "      --hover-bg-color: #434B5C;\n",
              "      --hover-fill-color: #FFFFFF;\n",
              "      --disabled-bg-color: #3B4455;\n",
              "      --disabled-fill-color: #666;\n",
              "  }\n",
              "\n",
              "  .colab-df-quickchart {\n",
              "    background-color: var(--bg-color);\n",
              "    border: none;\n",
              "    border-radius: 50%;\n",
              "    cursor: pointer;\n",
              "    display: none;\n",
              "    fill: var(--fill-color);\n",
              "    height: 32px;\n",
              "    padding: 0;\n",
              "    width: 32px;\n",
              "  }\n",
              "\n",
              "  .colab-df-quickchart:hover {\n",
              "    background-color: var(--hover-bg-color);\n",
              "    box-shadow: 0 1px 2px rgba(60, 64, 67, 0.3), 0 1px 3px 1px rgba(60, 64, 67, 0.15);\n",
              "    fill: var(--button-hover-fill-color);\n",
              "  }\n",
              "\n",
              "  .colab-df-quickchart-complete:disabled,\n",
              "  .colab-df-quickchart-complete:disabled:hover {\n",
              "    background-color: var(--disabled-bg-color);\n",
              "    fill: var(--disabled-fill-color);\n",
              "    box-shadow: none;\n",
              "  }\n",
              "\n",
              "  .colab-df-spinner {\n",
              "    border: 2px solid var(--fill-color);\n",
              "    border-color: transparent;\n",
              "    border-bottom-color: var(--fill-color);\n",
              "    animation:\n",
              "      spin 1s steps(1) infinite;\n",
              "  }\n",
              "\n",
              "  @keyframes spin {\n",
              "    0% {\n",
              "      border-color: transparent;\n",
              "      border-bottom-color: var(--fill-color);\n",
              "      border-left-color: var(--fill-color);\n",
              "    }\n",
              "    20% {\n",
              "      border-color: transparent;\n",
              "      border-left-color: var(--fill-color);\n",
              "      border-top-color: var(--fill-color);\n",
              "    }\n",
              "    30% {\n",
              "      border-color: transparent;\n",
              "      border-left-color: var(--fill-color);\n",
              "      border-top-color: var(--fill-color);\n",
              "      border-right-color: var(--fill-color);\n",
              "    }\n",
              "    40% {\n",
              "      border-color: transparent;\n",
              "      border-right-color: var(--fill-color);\n",
              "      border-top-color: var(--fill-color);\n",
              "    }\n",
              "    60% {\n",
              "      border-color: transparent;\n",
              "      border-right-color: var(--fill-color);\n",
              "    }\n",
              "    80% {\n",
              "      border-color: transparent;\n",
              "      border-right-color: var(--fill-color);\n",
              "      border-bottom-color: var(--fill-color);\n",
              "    }\n",
              "    90% {\n",
              "      border-color: transparent;\n",
              "      border-bottom-color: var(--fill-color);\n",
              "    }\n",
              "  }\n",
              "</style>\n",
              "\n",
              "  <script>\n",
              "    async function quickchart(key) {\n",
              "      const quickchartButtonEl =\n",
              "        document.querySelector('#' + key + ' button');\n",
              "      quickchartButtonEl.disabled = true;  // To prevent multiple clicks.\n",
              "      quickchartButtonEl.classList.add('colab-df-spinner');\n",
              "      try {\n",
              "        const charts = await google.colab.kernel.invokeFunction(\n",
              "            'suggestCharts', [key], {});\n",
              "      } catch (error) {\n",
              "        console.error('Error during call to suggestCharts:', error);\n",
              "      }\n",
              "      quickchartButtonEl.classList.remove('colab-df-spinner');\n",
              "      quickchartButtonEl.classList.add('colab-df-quickchart-complete');\n",
              "    }\n",
              "    (() => {\n",
              "      let quickchartButtonEl =\n",
              "        document.querySelector('#df-0a729c0b-a1d4-44d2-a0cd-3c2488460c51 button');\n",
              "      quickchartButtonEl.style.display =\n",
              "        google.colab.kernel.accessAllowed ? 'block' : 'none';\n",
              "    })();\n",
              "  </script>\n",
              "</div>\n",
              "    </div>\n",
              "  </div>\n"
            ],
            "application/vnd.google.colaboratory.intrinsic+json": {
              "type": "dataframe",
              "variable_name": "df_adult_normal"
            }
          },
          "metadata": {},
          "execution_count": 6
        }
      ],
      "source": [
        "df_adult_normal.head(15)"
      ]
    },
    {
      "cell_type": "markdown",
      "metadata": {
        "id": "qxB9m5NRHBgS"
      },
      "source": [
        "#2) Перевірка балансу класів"
      ]
    },
    {
      "cell_type": "code",
      "source": [
        "df_adult_normal['income'].value_counts()"
      ],
      "metadata": {
        "colab": {
          "base_uri": "https://localhost:8080/",
          "height": 0
        },
        "id": "Roa_oNcOgzK3",
        "outputId": "d5ff4238-5e1f-4226-cc81-b0d57414ecb6"
      },
      "execution_count": 7,
      "outputs": [
        {
          "output_type": "execute_result",
          "data": {
            "text/plain": [
              "income\n",
              "<=50K    24720\n",
              ">50K      7841\n",
              "Name: count, dtype: int64"
            ],
            "text/html": [
              "<div>\n",
              "<style scoped>\n",
              "    .dataframe tbody tr th:only-of-type {\n",
              "        vertical-align: middle;\n",
              "    }\n",
              "\n",
              "    .dataframe tbody tr th {\n",
              "        vertical-align: top;\n",
              "    }\n",
              "\n",
              "    .dataframe thead th {\n",
              "        text-align: right;\n",
              "    }\n",
              "</style>\n",
              "<table border=\"1\" class=\"dataframe\">\n",
              "  <thead>\n",
              "    <tr style=\"text-align: right;\">\n",
              "      <th></th>\n",
              "      <th>count</th>\n",
              "    </tr>\n",
              "    <tr>\n",
              "      <th>income</th>\n",
              "      <th></th>\n",
              "    </tr>\n",
              "  </thead>\n",
              "  <tbody>\n",
              "    <tr>\n",
              "      <th>&lt;=50K</th>\n",
              "      <td>24720</td>\n",
              "    </tr>\n",
              "    <tr>\n",
              "      <th>&gt;50K</th>\n",
              "      <td>7841</td>\n",
              "    </tr>\n",
              "  </tbody>\n",
              "</table>\n",
              "</div><br><label><b>dtype:</b> int64</label>"
            ]
          },
          "metadata": {},
          "execution_count": 7
        }
      ]
    },
    {
      "cell_type": "markdown",
      "metadata": {
        "id": "mtKvKOigH9-z"
      },
      "source": [
        "Можна побачити, що класи не збалансовані.\n",
        "\n",
        "*P.S. 'Була спроба за допомогою SMOTE() збалансувати класи, додавши в менший класс синтетичні дані, проте результати вийшли гіршими ніж на не збалансованих даних, тому було прйинято рішення залишити клас не збалансованим.'*"
      ]
    },
    {
      "cell_type": "markdown",
      "source": [
        "#3) Вибір метрики"
      ],
      "metadata": {
        "id": "Du7UJiB5vlhp"
      }
    },
    {
      "cell_type": "markdown",
      "source": [
        "Буду використовувати для аналізу якості моделі, так як класи не збалансовані, то основну увагу приділяємо F1-score, Precision, Recall."
      ],
      "metadata": {
        "id": "GZjf9Z5fvqnH"
      }
    },
    {
      "cell_type": "markdown",
      "source": [
        "# 4) Розділення даних"
      ],
      "metadata": {
        "id": "HE40dGWKw4ot"
      }
    },
    {
      "cell_type": "code",
      "source": [
        "df_adult_normal[\"income\"] = df_adult_normal[\"income\"].apply(lambda x: 1 if x == \" <=50K\" else 0)"
      ],
      "metadata": {
        "id": "vsP8qJxvBBaG"
      },
      "execution_count": 8,
      "outputs": []
    },
    {
      "cell_type": "code",
      "source": [
        "df_adult_normal['income'].value_counts()"
      ],
      "metadata": {
        "colab": {
          "base_uri": "https://localhost:8080/",
          "height": 0
        },
        "id": "2A1Lx7y9BTqo",
        "outputId": "ef7ad182-108e-486b-b08e-1f7bb45fcb10"
      },
      "execution_count": 9,
      "outputs": [
        {
          "output_type": "execute_result",
          "data": {
            "text/plain": [
              "income\n",
              "1    24720\n",
              "0     7841\n",
              "Name: count, dtype: int64"
            ],
            "text/html": [
              "<div>\n",
              "<style scoped>\n",
              "    .dataframe tbody tr th:only-of-type {\n",
              "        vertical-align: middle;\n",
              "    }\n",
              "\n",
              "    .dataframe tbody tr th {\n",
              "        vertical-align: top;\n",
              "    }\n",
              "\n",
              "    .dataframe thead th {\n",
              "        text-align: right;\n",
              "    }\n",
              "</style>\n",
              "<table border=\"1\" class=\"dataframe\">\n",
              "  <thead>\n",
              "    <tr style=\"text-align: right;\">\n",
              "      <th></th>\n",
              "      <th>count</th>\n",
              "    </tr>\n",
              "    <tr>\n",
              "      <th>income</th>\n",
              "      <th></th>\n",
              "    </tr>\n",
              "  </thead>\n",
              "  <tbody>\n",
              "    <tr>\n",
              "      <th>1</th>\n",
              "      <td>24720</td>\n",
              "    </tr>\n",
              "    <tr>\n",
              "      <th>0</th>\n",
              "      <td>7841</td>\n",
              "    </tr>\n",
              "  </tbody>\n",
              "</table>\n",
              "</div><br><label><b>dtype:</b> int64</label>"
            ]
          },
          "metadata": {},
          "execution_count": 9
        }
      ]
    },
    {
      "cell_type": "code",
      "source": [
        "X = df_adult_normal.drop(columns=['income'])\n",
        "y = df_adult_normal['income']"
      ],
      "metadata": {
        "id": "12En6NMNE4gC"
      },
      "execution_count": 10,
      "outputs": []
    },
    {
      "cell_type": "code",
      "source": [
        "X_train, X_test, y_train, y_test = train_test_split(X, y, test_size=0.2, random_state=42)"
      ],
      "metadata": {
        "id": "3Iu2F46mvhs7"
      },
      "execution_count": 11,
      "outputs": []
    },
    {
      "cell_type": "markdown",
      "source": [
        "# 5) Навчання логістичної регресії без регуляризації"
      ],
      "metadata": {
        "id": "IFQEucCdxsUv"
      }
    },
    {
      "cell_type": "code",
      "source": [
        "model_Log_Reg = LogisticRegression(penalty = None, solver = 'lbfgs', max_iter=300)\n",
        "model_Log_Reg.fit(X_train, y_train)\n",
        "model_Log_Reg.get_params()"
      ],
      "metadata": {
        "id": "Dx310Ie2xr0D",
        "colab": {
          "base_uri": "https://localhost:8080/"
        },
        "outputId": "52e23ed3-61f0-401a-eb24-684efcf8f423"
      },
      "execution_count": 12,
      "outputs": [
        {
          "output_type": "execute_result",
          "data": {
            "text/plain": [
              "{'C': 1.0,\n",
              " 'class_weight': None,\n",
              " 'dual': False,\n",
              " 'fit_intercept': True,\n",
              " 'intercept_scaling': 1,\n",
              " 'l1_ratio': None,\n",
              " 'max_iter': 300,\n",
              " 'multi_class': 'deprecated',\n",
              " 'n_jobs': None,\n",
              " 'penalty': None,\n",
              " 'random_state': None,\n",
              " 'solver': 'lbfgs',\n",
              " 'tol': 0.0001,\n",
              " 'verbose': 0,\n",
              " 'warm_start': False}"
            ]
          },
          "metadata": {},
          "execution_count": 12
        }
      ]
    },
    {
      "cell_type": "code",
      "source": [
        "y_pred_test = model_Log_Reg.predict(X_test)"
      ],
      "metadata": {
        "id": "SBUHxGfh54YO"
      },
      "execution_count": 13,
      "outputs": []
    },
    {
      "cell_type": "markdown",
      "source": [
        "#6) Оцінки якості моделі"
      ],
      "metadata": {
        "id": "fpw-vLCEFsBQ"
      }
    },
    {
      "cell_type": "code",
      "source": [
        "f1 = f1_score(y_test, y_pred_test, average='binary')\n",
        "print(f\"F1-score: {f1}\")\n",
        "precision = precision_score(y_test, y_pred_test, average='binary')\n",
        "print(f\"Precision: {precision}\")\n",
        "recall = recall_score(y_test, y_pred_test, average='binary')\n",
        "print(f\"Recall: {recall}\")"
      ],
      "metadata": {
        "colab": {
          "base_uri": "https://localhost:8080/"
        },
        "id": "Vcs8_qfyIrHU",
        "outputId": "3343a93c-86e0-4a37-926b-a5fea9cb402f"
      },
      "execution_count": 14,
      "outputs": [
        {
          "output_type": "stream",
          "name": "stdout",
          "text": [
            "F1-score: 0.9052281182690425\n",
            "Precision: 0.8768968133535661\n",
            "Recall: 0.9354512343180899\n"
          ]
        }
      ]
    },
    {
      "cell_type": "code",
      "source": [
        "cm = confusion_matrix(y_test,y_pred_test)\n",
        "desired_classes = ['>50K','<=50K']\n",
        "cm_display = ConfusionMatrixDisplay(confusion_matrix=cm, display_labels=desired_classes)\n",
        "cm_display.plot(cmap='plasma')\n",
        "plt.title('Confusion Matrix')\n",
        "plt.show()"
      ],
      "metadata": {
        "colab": {
          "base_uri": "https://localhost:8080/",
          "height": 472
        },
        "id": "tNec0HZFQQMh",
        "outputId": "ca7a344c-4864-4e14-9e10-67f07b0b1420"
      },
      "execution_count": 15,
      "outputs": [
        {
          "output_type": "display_data",
          "data": {
            "text/plain": [
              "<Figure size 640x480 with 2 Axes>"
            ],
            "image/png": "[encoded data removed]"
          },
          "metadata": {}
        }
      ]
    },
    {
      "cell_type": "markdown",
      "source": [
        "Подивимось на перенавчання."
      ],
      "metadata": {
        "id": "5wyi3i2kVYKJ"
      }
    },
    {
      "cell_type": "code",
      "source": [
        "y_pred_train = model_Log_Reg.predict(X_train)\n",
        "\n",
        "f1 = f1_score(y_train, y_pred_train, average='binary')\n",
        "print(f\"F1-score: {f1}\")\n",
        "precision = precision_score(y_train, y_pred_train, average='binary')\n",
        "print(f\"Precision: {precision}\")\n",
        "recall = recall_score(y_train, y_pred_train, average='binary')\n",
        "print(f\"Recall: {recall}\")"
      ],
      "metadata": {
        "colab": {
          "base_uri": "https://localhost:8080/"
        },
        "id": "4TUM3zCCVckB",
        "outputId": "efa739ec-80ab-43de-a75e-db9d93c44d56"
      },
      "execution_count": 16,
      "outputs": [
        {
          "output_type": "stream",
          "name": "stdout",
          "text": [
            "F1-score: 0.9021699244073684\n",
            "Precision: 0.8739276742973601\n",
            "Recall: 0.9322985134998483\n"
          ]
        }
      ]
    },
    {
      "cell_type": "code",
      "source": [
        "cm = confusion_matrix(y_train,y_pred_train)\n",
        "desired_classes = ['>50K','<=50K']\n",
        "cm_display = ConfusionMatrixDisplay(confusion_matrix=cm, display_labels=desired_classes)\n",
        "cm_display.plot(cmap='plasma')\n",
        "plt.title('Confusion Matrix')\n",
        "plt.show()"
      ],
      "metadata": {
        "colab": {
          "base_uri": "https://localhost:8080/",
          "height": 472
        },
        "id": "c8Hln2eOq_XB",
        "outputId": "f3a8a524-219a-4108-d35a-165f187912df"
      },
      "execution_count": 17,
      "outputs": [
        {
          "output_type": "display_data",
          "data": {
            "text/plain": [
              "<Figure size 640x480 with 2 Axes>"
            ],
            "image/png": "[encoded data removed]"
          },
          "metadata": {}
        }
      ]
    },
    {
      "cell_type": "markdown",
      "source": [
        "Як бачимо, перенавчання не має."
      ],
      "metadata": {
        "id": "VgcGgKvZFzuE"
      }
    },
    {
      "cell_type": "code",
      "source": [
        "print(classification_report(y_test, y_pred_test))"
      ],
      "metadata": {
        "colab": {
          "base_uri": "https://localhost:8080/"
        },
        "id": "tghdtPstWzsj",
        "outputId": "f5b5b99d-b279-498a-a8fe-ac238393c50d"
      },
      "execution_count": 18,
      "outputs": [
        {
          "output_type": "stream",
          "name": "stdout",
          "text": [
            "              precision    recall  f1-score   support\n",
            "\n",
            "           0       0.74      0.59      0.66      1571\n",
            "           1       0.88      0.94      0.91      4942\n",
            "\n",
            "    accuracy                           0.85      6513\n",
            "   macro avg       0.81      0.76      0.78      6513\n",
            "weighted avg       0.84      0.85      0.85      6513\n",
            "\n"
          ]
        }
      ]
    },
    {
      "cell_type": "code",
      "source": [
        "print(classification_report(y_train, y_pred_train))"
      ],
      "metadata": {
        "colab": {
          "base_uri": "https://localhost:8080/"
        },
        "id": "6Fq2RFzZW8gQ",
        "outputId": "a40052d1-c7b9-499d-b4df-818a618464dd"
      },
      "execution_count": 19,
      "outputs": [
        {
          "output_type": "stream",
          "name": "stdout",
          "text": [
            "              precision    recall  f1-score   support\n",
            "\n",
            "           0       0.73      0.58      0.64      6270\n",
            "           1       0.87      0.93      0.90     19778\n",
            "\n",
            "    accuracy                           0.85     26048\n",
            "   macro avg       0.80      0.75      0.77     26048\n",
            "weighted avg       0.84      0.85      0.84     26048\n",
            "\n"
          ]
        }
      ]
    },
    {
      "cell_type": "markdown",
      "source": [
        "Через те, що інший клас набагато менший за перший, маємо такі результати."
      ],
      "metadata": {
        "id": "JT8mspPnXBwV"
      }
    },
    {
      "cell_type": "markdown",
      "source": [
        "#7) Оцінка якості моделі на основі перехрестної перевірки."
      ],
      "metadata": {
        "id": "pRYC3c0OGBMo"
      }
    },
    {
      "cell_type": "code",
      "source": [
        "f1_scorer = make_scorer(f1_score)\n",
        "precision_scorer = make_scorer(precision_score)\n",
        "recall_scorer = make_scorer(recall_score)\n",
        "\n",
        "\n",
        "k_folds = KFold(5, shuffle = True)\n",
        "\n",
        "results = cross_validate(model_Log_Reg, X, y, cv=k_folds, scoring={'accuracy': 'accuracy', 'f1': f1_scorer,'precision': precision_scorer,'recall': recall_scorer}, return_train_score=True)\n",
        "\n",
        "print(f\"Точність на тесті: {results['test_accuracy'].mean()}\")\n",
        "print(f\"Точність на трейні: {results['train_accuracy'].mean()}\")\n",
        "print(f\"F1-score на тесті: {results['test_f1'].mean()}\")\n",
        "print(f\"F1-score на трейні: {results['train_f1'].mean()}\")\n",
        "print(f\"Precision на тесті: {results['test_precision'].mean()}\")\n",
        "print(f\"Precision на трейні: {results['train_precision'].mean()}\")\n",
        "print(f\"Recall на тесті: {results['test_recall'].mean()}\")\n",
        "print(f\"Recall на трейні: {results['train_recall'].mean()}\")"
      ],
      "metadata": {
        "colab": {
          "base_uri": "https://localhost:8080/"
        },
        "id": "y_kICG4zCZgH",
        "outputId": "6c1d36f0-473a-42ed-b92e-1257c8f2ad0a"
      },
      "execution_count": 20,
      "outputs": [
        {
          "output_type": "stream",
          "name": "stdout",
          "text": [
            "Точність на тесті: 0.8472098564164433\n",
            "Точність на трейні: 0.8470793313546394\n",
            "F1-score на тесті: 0.9025753302075905\n",
            "F1-score на трейні: 0.902488012755574\n",
            "Precision на тесті: 0.8746750103983105\n",
            "Precision на трейні: 0.8746829321016634\n",
            "Recall на тесті: 0.9323204973176706\n",
            "Recall на трейні: 0.9321191805687989\n"
          ]
        }
      ]
    },
    {
      "cell_type": "code",
      "source": [
        "f1_scorer = make_scorer(f1_score)\n",
        "train_sizes, train_scores, test_scores = learning_curve(model_Log_Reg, X, y, cv=k_folds, train_sizes=np.linspace(0.1, 1.0, 10), scoring=f1_scorer)\n",
        "\n",
        "train_mean = train_scores.mean(axis=1)\n",
        "test_mean = test_scores.mean(axis=1)\n",
        "\n",
        "plt.figure(figsize=(10, 6))\n",
        "plt.plot(train_sizes, train_mean, label=\"Навчальна\", color=\"blue\")\n",
        "plt.plot(train_sizes, test_mean, label=\"Tестова\", color=\"orange\")\n",
        "\n",
        "plt.title(\"Крива навчання\")\n",
        "plt.xlabel(\"Розмір вибірки\")\n",
        "plt.ylabel(\"F1-Score\")\n",
        "plt.legend()\n",
        "plt.show()"
      ],
      "metadata": {
        "id": "fgwQurx_VPwG",
        "colab": {
          "base_uri": "https://localhost:8080/",
          "height": 564
        },
        "outputId": "236a722a-e99c-446d-e207-d6b31608fa95"
      },
      "execution_count": 21,
      "outputs": [
        {
          "output_type": "display_data",
          "data": {
            "text/plain": [
              "<Figure size 1000x600 with 1 Axes>"
            ],
            "image/png": "[encoded data removed]"
          },
          "metadata": {}
        }
      ]
    },
    {
      "cell_type": "markdown",
      "source": [
        "#8) Навчання моделі з регуляризацією"
      ],
      "metadata": {
        "id": "AK7GpIHPwnI_"
      }
    },
    {
      "cell_type": "markdown",
      "source": [
        "*P.S. Тут вже підставлено значення С, яке ми знайшли перебором, а потім перевірили результат з 'GridSearchCV' та 'RandomizedSearchCV '*  "
      ],
      "metadata": {
        "id": "gOUZTZfxupUK"
      }
    },
    {
      "cell_type": "code",
      "source": [
        "model_Log_Reg_L1 = LogisticRegression(C=1, penalty = 'l1', solver = 'liblinear')\n",
        "model_Log_Reg_L1.fit(X_train, y_train)\n",
        "model_Log_Reg_L1.get_params()"
      ],
      "metadata": {
        "id": "BVCoWMYwnxIo",
        "colab": {
          "base_uri": "https://localhost:8080/"
        },
        "outputId": "2d3cca55-285a-4d49-8285-3111825d3a66"
      },
      "execution_count": 22,
      "outputs": [
        {
          "output_type": "execute_result",
          "data": {
            "text/plain": [
              "{'C': 1,\n",
              " 'class_weight': None,\n",
              " 'dual': False,\n",
              " 'fit_intercept': True,\n",
              " 'intercept_scaling': 1,\n",
              " 'l1_ratio': None,\n",
              " 'max_iter': 100,\n",
              " 'multi_class': 'deprecated',\n",
              " 'n_jobs': None,\n",
              " 'penalty': 'l1',\n",
              " 'random_state': None,\n",
              " 'solver': 'liblinear',\n",
              " 'tol': 0.0001,\n",
              " 'verbose': 0,\n",
              " 'warm_start': False}"
            ]
          },
          "metadata": {},
          "execution_count": 22
        }
      ]
    },
    {
      "cell_type": "code",
      "source": [
        "X_train_sub, X_val, y_train_sub, y_val = train_test_split(X_train, y_train, test_size=0.25, random_state=42)                #розбиття тренувальної на навчальну та валідаційну\n",
        "\n",
        "C_values = [0.01, 0.1, 1, 10, 100, 1000]\n",
        "val_scores = []\n",
        "\n",
        "for C in C_values:\n",
        "    model = LogisticRegression(C=C, penalty='l1', solver='liblinear', random_state=42)\n",
        "    model.fit(X_train_sub, y_train_sub)\n",
        "    val_scores.append(f1_score(y_val, model.predict(X_val)))\n",
        "\n",
        "optimal_C_manual = C_values[np.argmax(val_scores)]\n",
        "print(f\"Precision результати : {val_scores}\")\n",
        "print(f\"Підібране C : {optimal_C_manual}\")"
      ],
      "metadata": {
        "colab": {
          "base_uri": "https://localhost:8080/"
        },
        "id": "vbDol1WIbu6L",
        "outputId": "baa7b88c-8cf0-4b3d-e5d3-aa2191524a74"
      },
      "execution_count": 23,
      "outputs": [
        {
          "output_type": "stream",
          "name": "stdout",
          "text": [
            "Precision результати : [0.8861193035867186, 0.8997863662847155, 0.9003510140405616, 0.9001853839398966, 0.9001853839398966, 0.9002926829268293]\n",
            "Підібране C : 1\n"
          ]
        }
      ]
    },
    {
      "cell_type": "code",
      "source": [
        "plt.figure(figsize=(10, 6))\n",
        "plt.plot(C_values, val_scores, marker='o', linestyle='-', color='b')\n",
        "plt.xscale('log')\n",
        "plt.xlabel('C')\n",
        "plt.ylabel('F1 Score')\n",
        "plt.title('значення C')\n",
        "plt.grid()\n",
        "plt.show()"
      ],
      "metadata": {
        "colab": {
          "base_uri": "https://localhost:8080/",
          "height": 569
        },
        "id": "HXjcCqNvDSNT",
        "outputId": "2da6e498-d800-4e7a-d9d4-6d9adf24215c"
      },
      "execution_count": 24,
      "outputs": [
        {
          "output_type": "display_data",
          "data": {
            "text/plain": [
              "<Figure size 1000x600 with 1 Axes>"
            ],
            "image/png": "[encoded data removed]"
          },
          "metadata": {}
        }
      ]
    },
    {
      "cell_type": "code",
      "source": [
        "k_folds = KFold(5, shuffle = True)\n",
        "\n",
        "f1_scorer = make_scorer(f1_score)\n",
        "train_sizes, train_scores, test_scores = learning_curve(model_Log_Reg_L1, X, y, cv=k_folds, train_sizes=np.linspace(0.1, 1.0, 10), scoring=f1_scorer)\n",
        "\n",
        "train_mean = train_scores.mean(axis=1)\n",
        "test_mean = test_scores.mean(axis=1)\n",
        "\n",
        "plt.figure(figsize=(10, 6))\n",
        "plt.plot(train_sizes, train_mean, label=\"Навчальна\", color=\"blue\")\n",
        "plt.plot(train_sizes, test_mean, label=\"Tестова\", color=\"orange\")\n",
        "\n",
        "plt.title(\"Крива навчання\")\n",
        "plt.xlabel(\"Розмір вибірки\")\n",
        "plt.ylabel(\"F1-Score \")\n",
        "plt.legend()\n",
        "plt.show()"
      ],
      "metadata": {
        "colab": {
          "base_uri": "https://localhost:8080/",
          "height": 564
        },
        "id": "Kq2zfjJeiMJE",
        "outputId": "f21d2ddf-7d58-42e5-9c7f-9b488a25e7bd"
      },
      "execution_count": 25,
      "outputs": [
        {
          "output_type": "display_data",
          "data": {
            "text/plain": [
              "<Figure size 1000x600 with 1 Axes>"
            ],
            "image/png": "[encoded data removed]"
          },
          "metadata": {}
        }
      ]
    },
    {
      "cell_type": "markdown",
      "source": [
        "Як бачимо результати трохи кращі, але кращі."
      ],
      "metadata": {
        "id": "zZ-YGz6SuBNx"
      }
    },
    {
      "cell_type": "markdown",
      "source": [
        "GridSearchCV"
      ],
      "metadata": {
        "id": "wIL9mSwd3Bjz"
      }
    },
    {
      "cell_type": "code",
      "source": [
        "k_folds = KFold(5, shuffle = True)\n",
        "\n",
        "param_grid = {\"C\": np.logspace(-4, 3, 8)}\n",
        "f1_scorer = make_scorer(f1_score)\n",
        "grid_search = GridSearchCV(LogisticRegression(penalty='l1', solver='liblinear', random_state=42), param_grid, scoring=f1_scorer, cv=k_folds)\n",
        "grid_search.fit(X_train_sub, y_train_sub)\n",
        "optimal_C_grid = grid_search.best_params_[\"C\"]\n",
        "print(f\"Підібране C за допомогою GridSearchCV: {optimal_C_grid}\")"
      ],
      "metadata": {
        "colab": {
          "base_uri": "https://localhost:8080/"
        },
        "id": "UnNUQ00AuG0L",
        "outputId": "a3bc900e-4a7d-42e9-ca06-5c440fc1bc92"
      },
      "execution_count": 26,
      "outputs": [
        {
          "output_type": "stream",
          "name": "stdout",
          "text": [
            "Підібране C за допомогою GridSearchCV: 1.0\n"
          ]
        }
      ]
    },
    {
      "cell_type": "markdown",
      "source": [
        "#9) Оцінка якості моделі з регуляризацією"
      ],
      "metadata": {
        "id": "AKuEBb976WTk"
      }
    },
    {
      "cell_type": "code",
      "source": [
        "y_pred_test_l1 = model_Log_Reg_L1.predict(X_test)"
      ],
      "metadata": {
        "id": "Qx4nB-g-44Ft"
      },
      "execution_count": 27,
      "outputs": []
    },
    {
      "cell_type": "code",
      "source": [
        "f1 = f1_score(y_test, y_pred_test_l1, average='binary')\n",
        "print(f\"F1-score: {f1}\")\n",
        "precision = precision_score(y_test, y_pred_test_l1, average='binary')\n",
        "print(f\"Precision: {precision}\")\n",
        "recall = recall_score(y_test, y_pred_test_l1, average='binary')\n",
        "print(f\"Recall: {recall}\")"
      ],
      "metadata": {
        "colab": {
          "base_uri": "https://localhost:8080/"
        },
        "id": "VKWpH-Ms6lfJ",
        "outputId": "f62ab7a4-f88b-4a83-9aa0-bd12fb095381"
      },
      "execution_count": 28,
      "outputs": [
        {
          "output_type": "stream",
          "name": "stdout",
          "text": [
            "F1-score: 0.904980917898033\n",
            "Precision: 0.8762554481713094\n",
            "Recall: 0.9356535815459328\n"
          ]
        }
      ]
    },
    {
      "cell_type": "code",
      "source": [
        "cm = confusion_matrix(y_test,y_pred_test_l1)\n",
        "desired_classes = ['>50K','<=50K']\n",
        "cm_display = ConfusionMatrixDisplay(confusion_matrix=cm, display_labels=desired_classes)\n",
        "cm_display.plot(cmap='plasma')\n",
        "plt.title('Confusion Matrix')\n",
        "plt.show()"
      ],
      "metadata": {
        "colab": {
          "base_uri": "https://localhost:8080/",
          "height": 472
        },
        "id": "-QBmXNnx6ny8",
        "outputId": "d4a433a3-c13e-4f4a-d3c8-693ad3f4f522"
      },
      "execution_count": 29,
      "outputs": [
        {
          "output_type": "display_data",
          "data": {
            "text/plain": [
              "<Figure size 640x480 with 2 Axes>"
            ],
            "image/png": "[encoded data removed]"
          },
          "metadata": {}
        }
      ]
    },
    {
      "cell_type": "code",
      "source": [
        "y_pred_train_l1 = model_Log_Reg.predict(X_train)\n",
        "\n",
        "f1 = f1_score(y_train, y_pred_train_l1, average='binary')\n",
        "print(f\"F1-score: {f1}\")\n",
        "precision = precision_score(y_train, y_pred_train_l1, average='binary')\n",
        "print(f\"Precision: {precision}\")\n",
        "recall = recall_score(y_train, y_pred_train_l1, average='binary')\n",
        "print(f\"Recall: {recall}\")"
      ],
      "metadata": {
        "colab": {
          "base_uri": "https://localhost:8080/"
        },
        "id": "nKqO2X5f6qaj",
        "outputId": "46d36823-b4cf-4f48-b0b6-e5f7fea1edf0"
      },
      "execution_count": 30,
      "outputs": [
        {
          "output_type": "stream",
          "name": "stdout",
          "text": [
            "F1-score: 0.9021699244073684\n",
            "Precision: 0.8739276742973601\n",
            "Recall: 0.9322985134998483\n"
          ]
        }
      ]
    },
    {
      "cell_type": "code",
      "source": [
        "cm = confusion_matrix(y_train,y_pred_train_l1)\n",
        "desired_classes = ['>50K','<=50K']\n",
        "cm_display = ConfusionMatrixDisplay(confusion_matrix=cm, display_labels=desired_classes)\n",
        "cm_display.plot(cmap='plasma')\n",
        "plt.title('Confusion Matrix')\n",
        "plt.show()"
      ],
      "metadata": {
        "colab": {
          "base_uri": "https://localhost:8080/",
          "height": 472
        },
        "id": "TG2Jgw-v6tfn",
        "outputId": "46f383a5-bf75-4dee-eeb1-1262269e5509"
      },
      "execution_count": 31,
      "outputs": [
        {
          "output_type": "display_data",
          "data": {
            "text/plain": [
              "<Figure size 640x480 with 2 Axes>"
            ],
            "image/png": "[encoded data removed]"
          },
          "metadata": {}
        }
      ]
    },
    {
      "cell_type": "code",
      "source": [
        "print(classification_report(y_test, y_pred_test_l1))"
      ],
      "metadata": {
        "colab": {
          "base_uri": "https://localhost:8080/"
        },
        "id": "avmtt0hh6vyz",
        "outputId": "fcc30218-58f2-4da8-e683-b55c677d3e51"
      },
      "execution_count": 32,
      "outputs": [
        {
          "output_type": "stream",
          "name": "stdout",
          "text": [
            "              precision    recall  f1-score   support\n",
            "\n",
            "           0       0.74      0.58      0.65      1571\n",
            "           1       0.88      0.94      0.90      4942\n",
            "\n",
            "    accuracy                           0.85      6513\n",
            "   macro avg       0.81      0.76      0.78      6513\n",
            "weighted avg       0.84      0.85      0.84      6513\n",
            "\n"
          ]
        }
      ]
    },
    {
      "cell_type": "code",
      "source": [
        "print(classification_report(y_train, y_pred_train_l1))"
      ],
      "metadata": {
        "colab": {
          "base_uri": "https://localhost:8080/"
        },
        "id": "hCn8qCwm6ydD",
        "outputId": "e077100e-02cd-4f16-a252-c8630d864f0f"
      },
      "execution_count": 33,
      "outputs": [
        {
          "output_type": "stream",
          "name": "stdout",
          "text": [
            "              precision    recall  f1-score   support\n",
            "\n",
            "           0       0.73      0.58      0.64      6270\n",
            "           1       0.87      0.93      0.90     19778\n",
            "\n",
            "    accuracy                           0.85     26048\n",
            "   macro avg       0.80      0.75      0.77     26048\n",
            "weighted avg       0.84      0.85      0.84     26048\n",
            "\n"
          ]
        }
      ]
    },
    {
      "cell_type": "markdown",
      "source": [
        "#10) Відбір ознак"
      ],
      "metadata": {
        "id": "5U8o-Jdo92LL"
      }
    },
    {
      "cell_type": "code",
      "source": [
        "from sklearn.feature_selection import RFE\n",
        "n_features=[14,15,16,17,18]\n",
        "results=[]\n",
        "for i in n_features:\n",
        "  model_Log_Reg_features = LogisticRegression(C=1, penalty='l1', solver='liblinear')\n",
        "  rfe = RFE(model, n_features_to_select=i)\n",
        "  X_train_selected = rfe.fit_transform(X_train, y_train)\n",
        "  X_test_selected = rfe.transform(X_test)\n",
        "  model_Log_Reg_features.fit(X_train_selected, y_train)\n",
        "  y_pred_features = model_Log_Reg_features.predict(X_test_selected)\n",
        "  f_score = f1_score(y_test, y_pred_features)\n",
        "  results.append(f_score)\n",
        "print(results)"
      ],
      "metadata": {
        "colab": {
          "base_uri": "https://localhost:8080/"
        },
        "id": "aqWN_gU-WchP",
        "outputId": "bb695a01-fe24-46f7-dcb2-a3b3345a330d"
      },
      "execution_count": 35,
      "outputs": [
        {
          "output_type": "stream",
          "name": "stdout",
          "text": [
            "[0.9029478013906571, 0.9030047959283547, 0.9045521292217328, 0.9044448795770511, 0.9043001273386228]\n"
          ]
        }
      ]
    },
    {
      "cell_type": "markdown",
      "source": [
        "Результати майже не змінилися, проте кількість ознак значно зменшилась, тому має сенс зробити відбір ознак."
      ],
      "metadata": {
        "id": "KK-EKPMzXpH2"
      }
    },
    {
      "cell_type": "code",
      "source": [
        "cm = confusion_matrix(y_test,y_pred_features)\n",
        "desired_classes = ['>50K','<=50K']\n",
        "cm_display = ConfusionMatrixDisplay(confusion_matrix=cm, display_labels=desired_classes)\n",
        "cm_display.plot(cmap='plasma')\n",
        "plt.title('Confusion Matrix')\n",
        "plt.show()"
      ],
      "metadata": {
        "colab": {
          "base_uri": "https://localhost:8080/",
          "height": 472
        },
        "id": "OWBmOb999g4_",
        "outputId": "094f8f4f-8027-4058-f105-2a108b807e36"
      },
      "execution_count": 36,
      "outputs": [
        {
          "output_type": "display_data",
          "data": {
            "text/plain": [
              "<Figure size 640x480 with 2 Axes>"
            ],
            "image/png": "[encoded data removed]"
          },
          "metadata": {}
        }
      ]
    },
    {
      "cell_type": "markdown",
      "source": [
        "Результати майже не змінилися."
      ],
      "metadata": {
        "id": "oGQuZ8j497UZ"
      }
    },
    {
      "cell_type": "markdown",
      "source": [
        "#11) Навчання додаткових класифікаторів XGBClassifier та RandomForestClassifier"
      ],
      "metadata": {
        "id": "QHaLyPZ7-Pts"
      }
    },
    {
      "cell_type": "code",
      "source": [
        "xgb_model = XGBClassifier(\n",
        "    random_state=42,\n",
        "    learning_rate=0.01,               # Швидкість навчання\n",
        "    n_estimators=200,                # Кількість дерев\n",
        "    max_depth=10,                     # Максимальна глибина дерева\n",
        "    min_child_weight=3,              # Мінімальна вага для поділу\n",
        "    subsample=0.8,                   # Частка тренувальних даних для кожного дерева\n",
        "    colsample_bytree=0.8,            # Частка ознак для кожного дерева\n",
        "    gamma=0.1,                       # Мінімальний приріст в гіні\n",
        "    scale_pos_weight=1              # Балансування класів\n",
        "\n",
        ")\n",
        "xgb_model.fit(X_train, y_train)\n",
        "\n",
        "y_pred_xgb = xgb_model.predict(X_test)\n",
        "f1_scorer = f1_score(y_test, y_pred_xgb)\n",
        "print(f\"F1-Score XGBoost: {f1_scorer}\")"
      ],
      "metadata": {
        "colab": {
          "base_uri": "https://localhost:8080/"
        },
        "id": "leL5OVll97Ex",
        "outputId": "8e5af1ec-7a2f-482b-b0db-e22ca0ea1cba"
      },
      "execution_count": 54,
      "outputs": [
        {
          "output_type": "stream",
          "name": "stdout",
          "text": [
            "F1-Score XGBoost: 0.9154535814132845\n"
          ]
        }
      ]
    },
    {
      "cell_type": "code",
      "source": [
        "cm = confusion_matrix(y_test,y_pred_xgb)\n",
        "desired_classes = ['>50K','<=50K']\n",
        "cm_display = ConfusionMatrixDisplay(confusion_matrix=cm, display_labels=desired_classes)\n",
        "cm_display.plot(cmap='plasma')\n",
        "plt.title('Confusion Matrix')\n",
        "plt.show()"
      ],
      "metadata": {
        "colab": {
          "base_uri": "https://localhost:8080/",
          "height": 472
        },
        "id": "G9ZlOI6hINS0",
        "outputId": "13616f4b-5e73-47e0-8ca8-d732e5b58666"
      },
      "execution_count": 58,
      "outputs": [
        {
          "output_type": "display_data",
          "data": {
            "text/plain": [
              "<Figure size 640x480 with 2 Axes>"
            ],
            "image/png": "[encoded data removed]"
          },
          "metadata": {}
        }
      ]
    },
    {
      "cell_type": "markdown",
      "source": [
        "Подивимось на перенавчання."
      ],
      "metadata": {
        "id": "BBau-2GFYIWF"
      }
    },
    {
      "cell_type": "code",
      "source": [
        "y_pred_xgb_train = xgb_model.predict(X_train)\n",
        "f1_scorer = f1_score(y_train, y_pred_xgb_train)\n",
        "print(f\"F1-Score XGBoost: {f1_scorer}\")"
      ],
      "metadata": {
        "colab": {
          "base_uri": "https://localhost:8080/"
        },
        "id": "l1evPQA2YGd0",
        "outputId": "c04e934f-2961-4a05-c2b2-83571b63a1d6"
      },
      "execution_count": 55,
      "outputs": [
        {
          "output_type": "stream",
          "name": "stdout",
          "text": [
            "F1-Score XGBoost: 0.9199258706587403\n"
          ]
        }
      ]
    },
    {
      "cell_type": "code",
      "source": [
        "print(classification_report(y_test,y_pred_xgb))"
      ],
      "metadata": {
        "colab": {
          "base_uri": "https://localhost:8080/"
        },
        "id": "eSUXm68gIgQq",
        "outputId": "5f3f38e1-5f3d-4533-a487-f849bc5649af"
      },
      "execution_count": 56,
      "outputs": [
        {
          "output_type": "stream",
          "name": "stdout",
          "text": [
            "              precision    recall  f1-score   support\n",
            "\n",
            "           0       0.82      0.57      0.67      1571\n",
            "           1       0.87      0.96      0.92      4942\n",
            "\n",
            "    accuracy                           0.87      6513\n",
            "   macro avg       0.85      0.76      0.79      6513\n",
            "weighted avg       0.86      0.87      0.86      6513\n",
            "\n"
          ]
        }
      ]
    },
    {
      "cell_type": "code",
      "source": [
        "print(classification_report(y_train,y_pred_xgb_train))"
      ],
      "metadata": {
        "colab": {
          "base_uri": "https://localhost:8080/"
        },
        "id": "FPhERLZ9Yld3",
        "outputId": "a5e42df8-2afa-4f34-dead-845bdc5f07d9"
      },
      "execution_count": 57,
      "outputs": [
        {
          "output_type": "stream",
          "name": "stdout",
          "text": [
            "              precision    recall  f1-score   support\n",
            "\n",
            "           0       0.84      0.58      0.68      6270\n",
            "           1       0.88      0.97      0.92     19778\n",
            "\n",
            "    accuracy                           0.87     26048\n",
            "   macro avg       0.86      0.77      0.80     26048\n",
            "weighted avg       0.87      0.87      0.86     26048\n",
            "\n"
          ]
        }
      ]
    },
    {
      "cell_type": "markdown",
      "source": [
        "Перенавчання майже не має."
      ],
      "metadata": {
        "id": "pme4G3kJwZ4X"
      }
    },
    {
      "cell_type": "code",
      "source": [
        "rf_model = RandomForestClassifier(\n",
        "    n_estimators=100,             # Кількість дерев\n",
        "    max_depth=10,                 # Максимальна глибина дерев\n",
        "    min_samples_split=5,          # Мінімальна кількість зразків для поділу\n",
        "    min_samples_leaf=2,           # Мінімальна кількість зразків для листа\n",
        "    random_state=42               # Для відтворюваності результатів\n",
        ")\n",
        "\n",
        "rf_model.fit(X_train, y_train)\n",
        "\n",
        "\n",
        "y_pred_rf = rf_model.predict(X_test)\n",
        "\n",
        "f1_scorer = f1_score(y_test, y_pred_rf)\n",
        "print(f\"F1-Score Random Forest: {f1_scorer}\")"
      ],
      "metadata": {
        "colab": {
          "base_uri": "https://localhost:8080/"
        },
        "id": "dQD1P8N7ASf0",
        "outputId": "d0c9136f-2738-4d58-f732-9e2aca81a635"
      },
      "execution_count": 73,
      "outputs": [
        {
          "output_type": "stream",
          "name": "stdout",
          "text": [
            "F1-Score Random Forest: 0.9145282654833108\n"
          ]
        }
      ]
    },
    {
      "cell_type": "code",
      "source": [
        "cm = confusion_matrix(y_test,y_pred_rf)\n",
        "desired_classes = ['>50K','<=50K']\n",
        "cm_display = ConfusionMatrixDisplay(confusion_matrix=cm, display_labels=desired_classes)\n",
        "cm_display.plot(cmap='plasma')\n",
        "plt.title('Confusion Matrix')\n",
        "plt.show()"
      ],
      "metadata": {
        "colab": {
          "base_uri": "https://localhost:8080/",
          "height": 472
        },
        "id": "0GhdZ7EAIUBI",
        "outputId": "6ee9481c-4764-472e-e259-b4a6d98200a4"
      },
      "execution_count": 74,
      "outputs": [
        {
          "output_type": "display_data",
          "data": {
            "text/plain": [
              "<Figure size 640x480 with 2 Axes>"
            ],
            "image/png": "[encoded data removed]"
          },
          "metadata": {}
        }
      ]
    },
    {
      "cell_type": "code",
      "source": [
        "print(classification_report(y_test,y_pred_rf))"
      ],
      "metadata": {
        "colab": {
          "base_uri": "https://localhost:8080/"
        },
        "id": "QmCXPc4OIZkx",
        "outputId": "a2c47ae3-e7fc-40e2-e947-c153157a2acf"
      },
      "execution_count": 75,
      "outputs": [
        {
          "output_type": "stream",
          "name": "stdout",
          "text": [
            "              precision    recall  f1-score   support\n",
            "\n",
            "           0       0.81      0.56      0.67      1571\n",
            "           1       0.87      0.96      0.91      4942\n",
            "\n",
            "    accuracy                           0.86      6513\n",
            "   macro avg       0.84      0.76      0.79      6513\n",
            "weighted avg       0.86      0.86      0.85      6513\n",
            "\n"
          ]
        }
      ]
    },
    {
      "cell_type": "code",
      "source": [
        "y_pred_rf_train = rf_model.predict(X_train)\n",
        "f1_scorer = f1_score(y_train, y_pred_rf_train)\n",
        "print(f\"F1-Score Random Forest: {f1_scorer}\")"
      ],
      "metadata": {
        "colab": {
          "base_uri": "https://localhost:8080/"
        },
        "id": "oQ46lfS4wjAR",
        "outputId": "e2744112-ce9b-42d2-d1e0-8b05e3025aec"
      },
      "execution_count": 76,
      "outputs": [
        {
          "output_type": "stream",
          "name": "stdout",
          "text": [
            "F1-Score Random Forest: 0.9157398045163465\n"
          ]
        }
      ]
    },
    {
      "cell_type": "code",
      "source": [
        "cm = confusion_matrix(y_train,y_pred_rf_train)\n",
        "desired_classes = ['>50K','<=50K']\n",
        "cm_display = ConfusionMatrixDisplay(confusion_matrix=cm, display_labels=desired_classes)\n",
        "cm_display.plot(cmap='plasma')\n",
        "plt.title('Confusion Matrix')\n",
        "plt.show()"
      ],
      "metadata": {
        "colab": {
          "base_uri": "https://localhost:8080/",
          "height": 472
        },
        "id": "ecKDoGYFxCvP",
        "outputId": "0bb8db2a-65ec-43cb-f933-7ddf1952237b"
      },
      "execution_count": 77,
      "outputs": [
        {
          "output_type": "display_data",
          "data": {
            "text/plain": [
              "<Figure size 640x480 with 2 Axes>"
            ],
            "image/png": "[encoded data removed]"
          },
          "metadata": {}
        }
      ]
    },
    {
      "cell_type": "code",
      "source": [
        "print(classification_report(y_train,y_pred_rf_train))"
      ],
      "metadata": {
        "colab": {
          "base_uri": "https://localhost:8080/"
        },
        "id": "KATjYSO7xI6X",
        "outputId": "3476ee4c-5155-48c6-c326-e3c9a8cfdf58"
      },
      "execution_count": 78,
      "outputs": [
        {
          "output_type": "stream",
          "name": "stdout",
          "text": [
            "              precision    recall  f1-score   support\n",
            "\n",
            "           0       0.82      0.56      0.67      6270\n",
            "           1       0.87      0.96      0.92     19778\n",
            "\n",
            "    accuracy                           0.87     26048\n",
            "   macro avg       0.85      0.76      0.79     26048\n",
            "weighted avg       0.86      0.87      0.86     26048\n",
            "\n"
          ]
        }
      ]
    },
    {
      "cell_type": "markdown",
      "source": [
        "Перенавчання майже не має."
      ],
      "metadata": {
        "id": "vpjdPrYqxPCB"
      }
    },
    {
      "cell_type": "markdown",
      "source": [
        "#12) Порівняння класифікаторів"
      ],
      "metadata": {
        "id": "C3UIsg_EIuNA"
      }
    },
    {
      "cell_type": "code",
      "source": [
        "results = {'F1-Score Random Forest': 0.9145282654833108,\n",
        "           'F1-Score XGBoost': 0.9154535814132845,\n",
        "           'F1-Score Logistic Reg feature_selection': 0.9045521292217328,\n",
        "           'F1-score Logistic Reg with L1':  0.904980917898033,\n",
        "           'F1-score Logistic Reg penalty=None': 0.9052281182690425\n",
        "           }\n",
        "\n",
        "plt.figure(figsize=(10, 6))\n",
        "plt.plot(results.keys(), results.values(), marker='o', color='b', linestyle='-', linewidth=2, markersize=8)\n",
        "\n",
        "plt.title('F1-Scores', fontsize=16)\n",
        "plt.xlabel('Модель', fontsize=14)\n",
        "plt.ylabel('F1-Score', fontsize=14)\n",
        "plt.xticks(rotation=45, ha='right')\n",
        "plt.grid(True)\n",
        "plt.show()\n"
      ],
      "metadata": {
        "colab": {
          "base_uri": "https://localhost:8080/",
          "height": 760
        },
        "id": "LuCuBw9rIsI-",
        "outputId": "7cb81066-b07a-4cb7-9cb6-1c0d636990f3"
      },
      "execution_count": 79,
      "outputs": [
        {
          "output_type": "display_data",
          "data": {
            "text/plain": [
              "<Figure size 1000x600 with 1 Axes>"
            ],
            "image/png": "[encoded data removed]"
          },
          "metadata": {}
        }
      ]
    },
    {
      "cell_type": "markdown",
      "source": [
        "XGBoost демонструє найкращий результат, що свідчить про його високу ефективність у складних задачах класифікації.\n",
        "Random Forest має схожий результат, однак може потребувати більше часу на навчання і більше ресурсів.\n",
        "Logistic Regression з L1-регуляризацією та без регуляризації дає результат, близькі результати.\n",
        "Застосування відбору ознак для Logistic Regression дає не такі добрі результати порівнюючи з іншими моделями.\n",
        "Отже, для більш складних наборів даних і задач класифікації XGBoost та Random Forest є кращими варіантами, тоді як Logistic Regression підходить для швидких і простих задач."
      ],
      "metadata": {
        "id": "WMtSM48UK_l5"
      }
    }
  ],
  "metadata": {
    "colab": {
      "provenance": [],
      "collapsed_sections": [
        "ZhKJr9lnEwb1",
        "qxB9m5NRHBgS",
        "Du7UJiB5vlhp",
        "HE40dGWKw4ot",
        "IFQEucCdxsUv",
        "fpw-vLCEFsBQ",
        "pRYC3c0OGBMo",
        "AK7GpIHPwnI_",
        "AKuEBb976WTk",
        "5U8o-Jdo92LL",
        "QHaLyPZ7-Pts",
        "C3UIsg_EIuNA"
      ],
      "authorship_tag": "ABX9TyOXjStv0VzJwhi4pgSDlhvR",
      "include_colab_link": true
    },
    "kernelspec": {
      "display_name": "Python 3",
      "name": "python3"
    },
    "language_info": {
      "name": "python"
    }
  },
  "nbformat": 4,
  "nbformat_minor": 0
}